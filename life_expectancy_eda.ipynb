{
  "cells": [
    {
      "cell_type": "markdown",
      "id": "charitable-hardwood",
      "metadata": {
        "id": "charitable-hardwood",
        "papermill": {
          "duration": 0.078435,
          "end_time": "2021-07-08T19:07:55.353385",
          "exception": false,
          "start_time": "2021-07-08T19:07:55.274950",
          "status": "completed"
        },
        "tags": []
      },
      "source": [
        "## **IMPORTING NECESSARY MODULES**"
      ]
    },
    {
      "cell_type": "code",
      "execution_count": 3,
      "id": "e3c8f8b1",
      "metadata": {
        "colab": {
          "base_uri": "https://localhost:8080/"
        },
        "id": "e3c8f8b1",
        "outputId": "22d0c5af-9d45-460d-ee9f-152525b13f16"
      },
      "outputs": [
        {
          "name": "stdout",
          "output_type": "stream",
          "text": [
            "Requirement already satisfied: tensorflow in c:\\users\\18572\\appdata\\local\\programs\\python\\python310\\lib\\site-packages (2.11.0)\n",
            "Requirement already satisfied: tensorflow-intel==2.11.0 in c:\\users\\18572\\appdata\\local\\programs\\python\\python310\\lib\\site-packages (from tensorflow) (2.11.0)\n",
            "Requirement already satisfied: six>=1.12.0 in c:\\users\\18572\\appdata\\roaming\\python\\python310\\site-packages (from tensorflow-intel==2.11.0->tensorflow) (1.16.0)\n",
            "Requirement already satisfied: termcolor>=1.1.0 in c:\\users\\18572\\appdata\\local\\programs\\python\\python310\\lib\\site-packages (from tensorflow-intel==2.11.0->tensorflow) (2.2.0)\n",
            "Requirement already satisfied: flatbuffers>=2.0 in c:\\users\\18572\\appdata\\local\\programs\\python\\python310\\lib\\site-packages (from tensorflow-intel==2.11.0->tensorflow) (23.3.3)\n",
            "Requirement already satisfied: keras<2.12,>=2.11.0 in c:\\users\\18572\\appdata\\local\\programs\\python\\python310\\lib\\site-packages (from tensorflow-intel==2.11.0->tensorflow) (2.11.0)\n",
            "Requirement already satisfied: libclang>=13.0.0 in c:\\users\\18572\\appdata\\local\\programs\\python\\python310\\lib\\site-packages (from tensorflow-intel==2.11.0->tensorflow) (15.0.6.1)\n",
            "Requirement already satisfied: h5py>=2.9.0 in c:\\users\\18572\\appdata\\local\\programs\\python\\python310\\lib\\site-packages (from tensorflow-intel==2.11.0->tensorflow) (3.8.0)\n",
            "Requirement already satisfied: tensorboard<2.12,>=2.11 in c:\\users\\18572\\appdata\\local\\programs\\python\\python310\\lib\\site-packages (from tensorflow-intel==2.11.0->tensorflow) (2.11.2)\n",
            "Requirement already satisfied: numpy>=1.20 in c:\\users\\18572\\appdata\\roaming\\python\\python310\\site-packages (from tensorflow-intel==2.11.0->tensorflow) (1.24.2)\n",
            "Requirement already satisfied: google-pasta>=0.1.1 in c:\\users\\18572\\appdata\\local\\programs\\python\\python310\\lib\\site-packages (from tensorflow-intel==2.11.0->tensorflow) (0.2.0)\n",
            "Requirement already satisfied: typing-extensions>=3.6.6 in c:\\users\\18572\\appdata\\local\\programs\\python\\python310\\lib\\site-packages (from tensorflow-intel==2.11.0->tensorflow) (4.5.0)\n",
            "Requirement already satisfied: wrapt>=1.11.0 in c:\\users\\18572\\appdata\\local\\programs\\python\\python310\\lib\\site-packages (from tensorflow-intel==2.11.0->tensorflow) (1.15.0)\n",
            "Requirement already satisfied: packaging in c:\\users\\18572\\appdata\\roaming\\python\\python310\\site-packages (from tensorflow-intel==2.11.0->tensorflow) (21.3)\n",
            "Requirement already satisfied: tensorflow-io-gcs-filesystem>=0.23.1 in c:\\users\\18572\\appdata\\local\\programs\\python\\python310\\lib\\site-packages (from tensorflow-intel==2.11.0->tensorflow) (0.31.0)\n",
            "Requirement already satisfied: protobuf<3.20,>=3.9.2 in c:\\users\\18572\\appdata\\local\\programs\\python\\python310\\lib\\site-packages (from tensorflow-intel==2.11.0->tensorflow) (3.19.6)\n",
            "Requirement already satisfied: grpcio<2.0,>=1.24.3 in c:\\users\\18572\\appdata\\local\\programs\\python\\python310\\lib\\site-packages (from tensorflow-intel==2.11.0->tensorflow) (1.51.3)\n",
            "Requirement already satisfied: opt-einsum>=2.3.2 in c:\\users\\18572\\appdata\\local\\programs\\python\\python310\\lib\\site-packages (from tensorflow-intel==2.11.0->tensorflow) (3.3.0)\n",
            "Requirement already satisfied: setuptools in c:\\users\\18572\\appdata\\local\\programs\\python\\python310\\lib\\site-packages (from tensorflow-intel==2.11.0->tensorflow) (67.6.0)\n",
            "Requirement already satisfied: absl-py>=1.0.0 in c:\\users\\18572\\appdata\\local\\programs\\python\\python310\\lib\\site-packages (from tensorflow-intel==2.11.0->tensorflow) (1.4.0)\n",
            "Requirement already satisfied: astunparse>=1.6.0 in c:\\users\\18572\\appdata\\local\\programs\\python\\python310\\lib\\site-packages (from tensorflow-intel==2.11.0->tensorflow) (1.6.3)\n",
            "Requirement already satisfied: gast<=0.4.0,>=0.2.1 in c:\\users\\18572\\appdata\\local\\programs\\python\\python310\\lib\\site-packages (from tensorflow-intel==2.11.0->tensorflow) (0.4.0)\n",
            "Requirement already satisfied: tensorflow-estimator<2.12,>=2.11.0 in c:\\users\\18572\\appdata\\local\\programs\\python\\python310\\lib\\site-packages (from tensorflow-intel==2.11.0->tensorflow) (2.11.0)\n",
            "Requirement already satisfied: wheel<1.0,>=0.23.0 in c:\\users\\18572\\appdata\\local\\programs\\python\\python310\\lib\\site-packages (from astunparse>=1.6.0->tensorflow-intel==2.11.0->tensorflow) (0.40.0)\n",
            "Requirement already satisfied: markdown>=2.6.8 in c:\\users\\18572\\appdata\\local\\programs\\python\\python310\\lib\\site-packages (from tensorboard<2.12,>=2.11->tensorflow-intel==2.11.0->tensorflow) (3.4.1)\n",
            "Requirement already satisfied: werkzeug>=1.0.1 in c:\\users\\18572\\appdata\\local\\programs\\python\\python310\\lib\\site-packages (from tensorboard<2.12,>=2.11->tensorflow-intel==2.11.0->tensorflow) (2.2.3)\n",
            "Requirement already satisfied: tensorboard-data-server<0.7.0,>=0.6.0 in c:\\users\\18572\\appdata\\local\\programs\\python\\python310\\lib\\site-packages (from tensorboard<2.12,>=2.11->tensorflow-intel==2.11.0->tensorflow) (0.6.1)\n",
            "Requirement already satisfied: tensorboard-plugin-wit>=1.6.0 in c:\\users\\18572\\appdata\\local\\programs\\python\\python310\\lib\\site-packages (from tensorboard<2.12,>=2.11->tensorflow-intel==2.11.0->tensorflow) (1.8.1)\n",
            "Requirement already satisfied: requests<3,>=2.21.0 in c:\\users\\18572\\appdata\\local\\programs\\python\\python310\\lib\\site-packages (from tensorboard<2.12,>=2.11->tensorflow-intel==2.11.0->tensorflow) (2.28.1)\n",
            "Requirement already satisfied: google-auth-oauthlib<0.5,>=0.4.1 in c:\\users\\18572\\appdata\\local\\programs\\python\\python310\\lib\\site-packages (from tensorboard<2.12,>=2.11->tensorflow-intel==2.11.0->tensorflow) (0.4.6)\n",
            "Requirement already satisfied: google-auth<3,>=1.6.3 in c:\\users\\18572\\appdata\\local\\programs\\python\\python310\\lib\\site-packages (from tensorboard<2.12,>=2.11->tensorflow-intel==2.11.0->tensorflow) (2.16.2)\n",
            "Requirement already satisfied: pyparsing!=3.0.5,>=2.0.2 in c:\\users\\18572\\appdata\\roaming\\python\\python310\\site-packages (from packaging->tensorflow-intel==2.11.0->tensorflow) (3.0.9)\n",
            "Requirement already satisfied: cachetools<6.0,>=2.0.0 in c:\\users\\18572\\appdata\\local\\programs\\python\\python310\\lib\\site-packages (from google-auth<3,>=1.6.3->tensorboard<2.12,>=2.11->tensorflow-intel==2.11.0->tensorflow) (5.3.0)\n",
            "Requirement already satisfied: rsa<5,>=3.1.4 in c:\\users\\18572\\appdata\\local\\programs\\python\\python310\\lib\\site-packages (from google-auth<3,>=1.6.3->tensorboard<2.12,>=2.11->tensorflow-intel==2.11.0->tensorflow) (4.9)\n",
            "Requirement already satisfied: pyasn1-modules>=0.2.1 in c:\\users\\18572\\appdata\\local\\programs\\python\\python310\\lib\\site-packages (from google-auth<3,>=1.6.3->tensorboard<2.12,>=2.11->tensorflow-intel==2.11.0->tensorflow) (0.2.8)\n",
            "Requirement already satisfied: requests-oauthlib>=0.7.0 in c:\\users\\18572\\appdata\\local\\programs\\python\\python310\\lib\\site-packages (from google-auth-oauthlib<0.5,>=0.4.1->tensorboard<2.12,>=2.11->tensorflow-intel==2.11.0->tensorflow) (1.3.1)\n",
            "Requirement already satisfied: idna<4,>=2.5 in c:\\users\\18572\\appdata\\local\\programs\\python\\python310\\lib\\site-packages (from requests<3,>=2.21.0->tensorboard<2.12,>=2.11->tensorflow-intel==2.11.0->tensorflow) (3.4)\n",
            "Requirement already satisfied: certifi>=2017.4.17 in c:\\users\\18572\\appdata\\local\\programs\\python\\python310\\lib\\site-packages (from requests<3,>=2.21.0->tensorboard<2.12,>=2.11->tensorflow-intel==2.11.0->tensorflow) (2022.9.24)\n",
            "Requirement already satisfied: urllib3<1.27,>=1.21.1 in c:\\users\\18572\\appdata\\local\\programs\\python\\python310\\lib\\site-packages (from requests<3,>=2.21.0->tensorboard<2.12,>=2.11->tensorflow-intel==2.11.0->tensorflow) (1.26.15)\n",
            "Requirement already satisfied: charset-normalizer<3,>=2 in c:\\users\\18572\\appdata\\local\\programs\\python\\python310\\lib\\site-packages (from requests<3,>=2.21.0->tensorboard<2.12,>=2.11->tensorflow-intel==2.11.0->tensorflow) (2.1.1)\n",
            "Requirement already satisfied: MarkupSafe>=2.1.1 in c:\\users\\18572\\appdata\\local\\programs\\python\\python310\\lib\\site-packages (from werkzeug>=1.0.1->tensorboard<2.12,>=2.11->tensorflow-intel==2.11.0->tensorflow) (2.1.1)\n",
            "Requirement already satisfied: pyasn1<0.5.0,>=0.4.6 in c:\\users\\18572\\appdata\\local\\programs\\python\\python310\\lib\\site-packages (from pyasn1-modules>=0.2.1->google-auth<3,>=1.6.3->tensorboard<2.12,>=2.11->tensorflow-intel==2.11.0->tensorflow) (0.4.8)\n",
            "Requirement already satisfied: oauthlib>=3.0.0 in c:\\users\\18572\\appdata\\local\\programs\\python\\python310\\lib\\site-packages (from requests-oauthlib>=0.7.0->google-auth-oauthlib<0.5,>=0.4.1->tensorboard<2.12,>=2.11->tensorflow-intel==2.11.0->tensorflow) (3.2.2)\n"
          ]
        },
        {
          "name": "stderr",
          "output_type": "stream",
          "text": [
            "\n",
            "[notice] A new release of pip available: 22.2.2 -> 23.1.1\n",
            "[notice] To update, run: C:\\Users\\18572\\AppData\\Local\\Programs\\Python\\Python310\\python.exe -m pip install --upgrade pip\n"
          ]
        }
      ],
      "source": [
        "!pip install tensorflow\n"
      ]
    },
    {
      "cell_type": "code",
      "execution_count": 4,
      "id": "technical-third",
      "metadata": {
        "_cell_guid": "b1076dfc-b9ad-4769-8c92-a6c4dae69d19",
        "_uuid": "8f2839f25d086af736a60e9eeb907d3b93b6e0e5",
        "execution": {
          "iopub.execute_input": "2021-07-08T19:07:55.514881Z",
          "iopub.status.busy": "2021-07-08T19:07:55.514014Z",
          "iopub.status.idle": "2021-07-08T19:08:01.994074Z",
          "shell.execute_reply": "2021-07-08T19:08:01.992985Z",
          "shell.execute_reply.started": "2021-07-08T18:50:57.024333Z"
        },
        "id": "technical-third",
        "papermill": {
          "duration": 6.565235,
          "end_time": "2021-07-08T19:08:01.994356",
          "exception": false,
          "start_time": "2021-07-08T19:07:55.429121",
          "status": "completed"
        },
        "tags": []
      },
      "outputs": [
        {
          "ename": "ModuleNotFoundError",
          "evalue": "No module named 'tensorflow'",
          "output_type": "error",
          "traceback": [
            "\u001b[1;31m---------------------------------------------------------------------------\u001b[0m",
            "\u001b[1;31mModuleNotFoundError\u001b[0m                       Traceback (most recent call last)",
            "\u001b[1;32m~\\AppData\\Local\\Temp\\ipykernel_6092\\311756562.py\u001b[0m in \u001b[0;36m<module>\u001b[1;34m\u001b[0m\n\u001b[0;32m      4\u001b[0m \u001b[1;32mimport\u001b[0m \u001b[0mseaborn\u001b[0m \u001b[1;32mas\u001b[0m \u001b[0msns\u001b[0m\u001b[1;33m\u001b[0m\u001b[1;33m\u001b[0m\u001b[0m\n\u001b[0;32m      5\u001b[0m \u001b[1;32mfrom\u001b[0m \u001b[0msklearn\u001b[0m \u001b[1;32mimport\u001b[0m \u001b[0mpreprocessing\u001b[0m\u001b[1;33m\u001b[0m\u001b[1;33m\u001b[0m\u001b[0m\n\u001b[1;32m----> 6\u001b[1;33m \u001b[1;32mimport\u001b[0m \u001b[0mtensorflow\u001b[0m \u001b[1;32mas\u001b[0m \u001b[0mtf\u001b[0m\u001b[1;33m\u001b[0m\u001b[1;33m\u001b[0m\u001b[0m\n\u001b[0m\u001b[0;32m      7\u001b[0m \u001b[1;32mfrom\u001b[0m \u001b[0mtensorflow\u001b[0m \u001b[1;32mimport\u001b[0m \u001b[0mfeature_column\u001b[0m\u001b[1;33m\u001b[0m\u001b[1;33m\u001b[0m\u001b[0m\n\u001b[0;32m      8\u001b[0m \u001b[1;32mfrom\u001b[0m \u001b[0mtensorflow\u001b[0m\u001b[1;33m.\u001b[0m\u001b[0mkeras\u001b[0m \u001b[1;32mimport\u001b[0m \u001b[0mlayers\u001b[0m\u001b[1;33m\u001b[0m\u001b[1;33m\u001b[0m\u001b[0m\n",
            "\u001b[1;31mModuleNotFoundError\u001b[0m: No module named 'tensorflow'"
          ]
        }
      ],
      "source": [
        "\n",
        "import numpy as np # linear algebra\n",
        "import pandas as pd # data processing, CSV file I/O (e.g. pd.read_csv)\n",
        "import matplotlib.pyplot as plt\n",
        "import seaborn as sns\n",
        "from sklearn import preprocessing\n",
        "import tensorflow as tf\n",
        "from tensorflow import feature_column\n",
        "from tensorflow.keras import layers\n",
        "from sklearn.model_selection import train_test_split"
      ]
    },
    {
      "cell_type": "code",
      "execution_count": null,
      "id": "elementary-enterprise",
      "metadata": {
        "execution": {
          "iopub.execute_input": "2021-07-08T19:08:02.151223Z",
          "iopub.status.busy": "2021-07-08T19:08:02.150559Z",
          "iopub.status.idle": "2021-07-08T19:08:02.152649Z",
          "shell.execute_reply": "2021-07-08T19:08:02.153141Z",
          "shell.execute_reply.started": "2021-06-07T09:07:21.47416Z"
        },
        "id": "elementary-enterprise",
        "papermill": {
          "duration": 0.082935,
          "end_time": "2021-07-08T19:08:02.153318",
          "exception": false,
          "start_time": "2021-07-08T19:08:02.070383",
          "status": "completed"
        },
        "tags": []
      },
      "outputs": [],
      "source": [
        "#!pip install rpy2"
      ]
    },
    {
      "cell_type": "markdown",
      "id": "focused-ottawa",
      "metadata": {
        "id": "focused-ottawa",
        "papermill": {
          "duration": 0.075994,
          "end_time": "2021-07-08T19:08:02.305012",
          "exception": false,
          "start_time": "2021-07-08T19:08:02.229018",
          "status": "completed"
        },
        "tags": []
      },
      "source": [
        "## **IMPORTING DATA**"
      ]
    },
    {
      "cell_type": "code",
      "execution_count": null,
      "id": "bulgarian-assurance",
      "metadata": {
        "colab": {
          "base_uri": "https://localhost:8080/",
          "height": 322
        },
        "execution": {
          "iopub.execute_input": "2021-07-08T19:08:02.460191Z",
          "iopub.status.busy": "2021-07-08T19:08:02.459533Z",
          "iopub.status.idle": "2021-07-08T19:08:02.540610Z",
          "shell.execute_reply": "2021-07-08T19:08:02.541107Z",
          "shell.execute_reply.started": "2021-07-08T18:57:18.961351Z"
        },
        "id": "bulgarian-assurance",
        "outputId": "5e2c1e86-9284-4c1f-e4c6-1e52c0f4251b",
        "papermill": {
          "duration": 0.160413,
          "end_time": "2021-07-08T19:08:02.541303",
          "exception": false,
          "start_time": "2021-07-08T19:08:02.380890",
          "status": "completed"
        },
        "tags": []
      },
      "outputs": [],
      "source": [
        "import pandas as pd\n",
        "pd.set_option('display.max_columns', None)\n",
        "data = pd.read_csv('Life Expectancy Data.csv')\n",
        "data.head()"
      ]
    },
    {
      "cell_type": "code",
      "execution_count": null,
      "id": "armed-tolerance",
      "metadata": {
        "colab": {
          "base_uri": "https://localhost:8080/"
        },
        "execution": {
          "iopub.execute_input": "2021-07-08T19:08:02.696981Z",
          "iopub.status.busy": "2021-07-08T19:08:02.696348Z",
          "iopub.status.idle": "2021-07-08T19:08:02.704415Z",
          "shell.execute_reply": "2021-07-08T19:08:02.703399Z",
          "shell.execute_reply.started": "2021-07-08T18:57:21.380430Z"
        },
        "id": "armed-tolerance",
        "outputId": "2aec4833-e4f2-40a1-af6e-b1e2f26999ec",
        "papermill": {
          "duration": 0.08723,
          "end_time": "2021-07-08T19:08:02.704672",
          "exception": false,
          "start_time": "2021-07-08T19:08:02.617442",
          "status": "completed"
        },
        "tags": []
      },
      "outputs": [],
      "source": [
        "print('the size of the dataset', data.shape)\n",
        "print('the columns of the dataset ', list(data.columns))"
      ]
    },
    {
      "cell_type": "code",
      "execution_count": null,
      "id": "planned-gibson",
      "metadata": {
        "execution": {
          "iopub.execute_input": "2021-07-08T19:08:02.864053Z",
          "iopub.status.busy": "2021-07-08T19:08:02.863060Z",
          "iopub.status.idle": "2021-07-08T19:08:02.869605Z",
          "shell.execute_reply": "2021-07-08T19:08:02.870167Z",
          "shell.execute_reply.started": "2021-07-08T18:57:22.528109Z"
        },
        "id": "planned-gibson",
        "papermill": {
          "duration": 0.087513,
          "end_time": "2021-07-08T19:08:02.870349",
          "exception": false,
          "start_time": "2021-07-08T19:08:02.782836",
          "status": "completed"
        },
        "tags": []
      },
      "outputs": [],
      "source": [
        "data.rename(columns={\" BMI \":\"BMI\",\"Life expectancy \":\"Life_Expectancy\",\"Adult Mortality\":\"Adult_Mortality\",\n",
        "                   \"infant deaths\":\"Infant_Deaths\",\"percentage expenditure\":\"Percentage_Exp\",\"Hepatitis B\":\"HepatitisB\",\n",
        "                  \"Measles \":\"Measles\",\" BMI \":\"BMI\",\"under-five deaths \":\"Under_Five_Deaths\",\"Diphtheria \":\"Diphtheria\",\n",
        "                  \" HIV/AIDS\":\"HIV/AIDS\",\" thinness  1-19 years\":\"thinness_1to19_years\",\" thinness 5-9 years\":\"thinness_5to9_years\",\"Income composition of resources\":\"Income_Comp_Of_Resources\",\n",
        "                   \"Total expenditure\":\"Tot_Exp\"},inplace=True)"
      ]
    },
    {
      "cell_type": "code",
      "execution_count": null,
      "id": "decimal-austria",
      "metadata": {
        "colab": {
          "base_uri": "https://localhost:8080/"
        },
        "execution": {
          "iopub.execute_input": "2021-07-08T19:08:03.029669Z",
          "iopub.status.busy": "2021-07-08T19:08:03.028630Z",
          "iopub.status.idle": "2021-07-08T19:08:03.037308Z",
          "shell.execute_reply": "2021-07-08T19:08:03.036749Z",
          "shell.execute_reply.started": "2021-07-08T18:57:24.535156Z"
        },
        "id": "decimal-austria",
        "outputId": "72895cf9-304c-48bb-f593-c12eeb8d4d7f",
        "papermill": {
          "duration": 0.090098,
          "end_time": "2021-07-08T19:08:03.037461",
          "exception": false,
          "start_time": "2021-07-08T19:08:02.947363",
          "status": "completed"
        },
        "tags": []
      },
      "outputs": [],
      "source": [
        "print('Number of Countries', len(data['Country'].unique()))"
      ]
    },
    {
      "cell_type": "code",
      "execution_count": null,
      "id": "41d9db0d",
      "metadata": {
        "colab": {
          "base_uri": "https://localhost:8080/"
        },
        "id": "41d9db0d",
        "outputId": "ca7943ea-3b00-4ac5-d0a0-8f6ccaeaa308"
      },
      "outputs": [],
      "source": [
        "data.shape"
      ]
    },
    {
      "cell_type": "code",
      "execution_count": null,
      "id": "active-directory",
      "metadata": {
        "colab": {
          "base_uri": "https://localhost:8080/"
        },
        "execution": {
          "iopub.execute_input": "2021-07-08T19:08:03.209151Z",
          "iopub.status.busy": "2021-07-08T19:08:03.198633Z",
          "iopub.status.idle": "2021-07-08T19:08:03.216841Z",
          "shell.execute_reply": "2021-07-08T19:08:03.215759Z",
          "shell.execute_reply.started": "2021-07-08T18:57:26.114833Z"
        },
        "id": "active-directory",
        "outputId": "7f2e8819-41fc-4125-bec9-5c21efa314a1",
        "papermill": {
          "duration": 0.102448,
          "end_time": "2021-07-08T19:08:03.217071",
          "exception": false,
          "start_time": "2021-07-08T19:08:03.114623",
          "status": "completed"
        },
        "tags": []
      },
      "outputs": [],
      "source": [
        "data.info()"
      ]
    },
    {
      "cell_type": "code",
      "execution_count": null,
      "id": "e40f491c",
      "metadata": {
        "colab": {
          "base_uri": "https://localhost:8080/"
        },
        "id": "e40f491c",
        "outputId": "e61acb0a-bfea-4e9e-b82b-d6775d36d137"
      },
      "outputs": [],
      "source": [
        "data.columns"
      ]
    },
    {
      "cell_type": "code",
      "execution_count": null,
      "id": "inner-image",
      "metadata": {
        "colab": {
          "base_uri": "https://localhost:8080/"
        },
        "execution": {
          "iopub.execute_input": "2021-07-08T19:08:03.377289Z",
          "iopub.status.busy": "2021-07-08T19:08:03.376648Z",
          "iopub.status.idle": "2021-07-08T19:08:03.382958Z",
          "shell.execute_reply": "2021-07-08T19:08:03.383514Z",
          "shell.execute_reply.started": "2021-07-08T18:57:28.682589Z"
        },
        "id": "inner-image",
        "outputId": "6c20301f-72c1-4c65-ea0c-6501672aadec",
        "papermill": {
          "duration": 0.087739,
          "end_time": "2021-07-08T19:08:03.383691",
          "exception": false,
          "start_time": "2021-07-08T19:08:03.295952",
          "status": "completed"
        },
        "tags": []
      },
      "outputs": [],
      "source": [
        "data.Country.unique()"
      ]
    },
    {
      "cell_type": "code",
      "execution_count": null,
      "id": "expressed-syndicate",
      "metadata": {
        "colab": {
          "base_uri": "https://localhost:8080/"
        },
        "execution": {
          "iopub.execute_input": "2021-07-08T19:08:03.543926Z",
          "iopub.status.busy": "2021-07-08T19:08:03.543238Z",
          "iopub.status.idle": "2021-07-08T19:08:03.550870Z",
          "shell.execute_reply": "2021-07-08T19:08:03.551396Z",
          "shell.execute_reply.started": "2021-07-08T18:57:32.501767Z"
        },
        "id": "expressed-syndicate",
        "outputId": "4733e6f9-90b3-4915-942b-d7672d374ce9",
        "papermill": {
          "duration": 0.089745,
          "end_time": "2021-07-08T19:08:03.551590",
          "exception": false,
          "start_time": "2021-07-08T19:08:03.461845",
          "status": "completed"
        },
        "tags": []
      },
      "outputs": [],
      "source": [
        "#Count of developing and developed countries\n",
        "data.groupby('Status')[\"Status\"].count()"
      ]
    },
    {
      "cell_type": "code",
      "execution_count": null,
      "id": "honest-upgrade",
      "metadata": {
        "colab": {
          "base_uri": "https://localhost:8080/",
          "height": 237
        },
        "execution": {
          "iopub.execute_input": "2021-07-08T19:08:03.715257Z",
          "iopub.status.busy": "2021-07-08T19:08:03.714555Z",
          "iopub.status.idle": "2021-07-08T19:08:04.856496Z",
          "shell.execute_reply": "2021-07-08T19:08:04.855920Z",
          "shell.execute_reply.started": "2021-07-08T18:57:33.750319Z"
        },
        "id": "honest-upgrade",
        "outputId": "1e5c4e19-9e57-412c-8a34-06f67cab5688",
        "papermill": {
          "duration": 1.225513,
          "end_time": "2021-07-08T19:08:04.856655",
          "exception": false,
          "start_time": "2021-07-08T19:08:03.631142",
          "status": "completed"
        },
        "tags": []
      },
      "outputs": [],
      "source": [
        "data.loc[:, [\"Life_Expectancy\", \"Alcohol\"]].groupby(data['Country']).describe().loc[['Morocco','Germany','France','Spain'],:]"
      ]
    },
    {
      "cell_type": "code",
      "execution_count": null,
      "id": "c3d48ab5",
      "metadata": {
        "colab": {
          "base_uri": "https://localhost:8080/"
        },
        "id": "c3d48ab5",
        "outputId": "25a2fb3c-846b-4ccd-aa87-e3c82d5f05af"
      },
      "outputs": [],
      "source": [
        "#calculating the null values for each column\n",
        "data.isna().sum()"
      ]
    },
    {
      "cell_type": "markdown",
      "id": "annoying-canada",
      "metadata": {
        "id": "annoying-canada",
        "papermill": {
          "duration": 0.078999,
          "end_time": "2021-07-08T19:08:05.016113",
          "exception": false,
          "start_time": "2021-07-08T19:08:04.937114",
          "status": "completed"
        },
        "tags": []
      },
      "source": [
        "## **DATA VISUALIZATION**"
      ]
    },
    {
      "cell_type": "code",
      "execution_count": null,
      "id": "academic-musical",
      "metadata": {
        "colab": {
          "base_uri": "https://localhost:8080/",
          "height": 447
        },
        "execution": {
          "iopub.execute_input": "2021-07-08T19:08:05.178443Z",
          "iopub.status.busy": "2021-07-08T19:08:05.177731Z",
          "iopub.status.idle": "2021-07-08T19:08:05.390399Z",
          "shell.execute_reply": "2021-07-08T19:08:05.389717Z",
          "shell.execute_reply.started": "2021-07-08T18:58:19.145796Z"
        },
        "id": "academic-musical",
        "outputId": "27443703-de29-40ea-aa84-9084b5188ad6",
        "papermill": {
          "duration": 0.295491,
          "end_time": "2021-07-08T19:08:05.390548",
          "exception": false,
          "start_time": "2021-07-08T19:08:05.095057",
          "status": "completed"
        },
        "tags": []
      },
      "outputs": [],
      "source": [
        "#Distribution of the response variable\n",
        "data['Life_Expectancy'].hist()"
      ]
    },
    {
      "cell_type": "code",
      "execution_count": null,
      "id": "senior-armor",
      "metadata": {
        "colab": {
          "base_uri": "https://localhost:8080/",
          "height": 568
        },
        "execution": {
          "iopub.execute_input": "2021-07-08T19:08:05.583278Z",
          "iopub.status.busy": "2021-07-08T19:08:05.557806Z",
          "iopub.status.idle": "2021-07-08T19:08:05.690689Z",
          "shell.execute_reply": "2021-07-08T19:08:05.690117Z",
          "shell.execute_reply.started": "2021-07-08T18:58:21.093734Z"
        },
        "id": "senior-armor",
        "outputId": "f46b9a4e-8a2b-48dd-807c-a62c8b32f298",
        "papermill": {
          "duration": 0.220128,
          "end_time": "2021-07-08T19:08:05.690833",
          "exception": false,
          "start_time": "2021-07-08T19:08:05.470705",
          "status": "completed"
        },
        "tags": []
      },
      "outputs": [],
      "source": [
        "plt.figure(figsize=(6,6))\n",
        "plt.bar(data.groupby('Status')['Status'].count().index, data.groupby('Status')['Life_Expectancy'].mean())\n",
        "plt.xlabel(\"Status\",fontsize=12)\n",
        "plt.ylabel(\"Avg Life_Expectancy\",fontsize=12)\n",
        "plt.title(\"Life_Expectancy w.r.t Status\")\n",
        "plt.show()"
      ]
    },
    {
      "cell_type": "code",
      "execution_count": null,
      "id": "loose-wallpaper",
      "metadata": {
        "colab": {
          "base_uri": "https://localhost:8080/",
          "height": 495
        },
        "execution": {
          "iopub.execute_input": "2021-07-08T19:08:05.880231Z",
          "iopub.status.busy": "2021-07-08T19:08:05.865890Z",
          "iopub.status.idle": "2021-07-08T19:08:06.058353Z",
          "shell.execute_reply": "2021-07-08T19:08:06.057729Z",
          "shell.execute_reply.started": "2021-07-08T18:58:23.046145Z"
        },
        "id": "loose-wallpaper",
        "outputId": "3c430240-3431-4bdc-c51d-a5107aad12ff",
        "papermill": {
          "duration": 0.28727,
          "end_time": "2021-07-08T19:08:06.058518",
          "exception": false,
          "start_time": "2021-07-08T19:08:05.771248",
          "status": "completed"
        },
        "tags": []
      },
      "outputs": [],
      "source": [
        "data[data.Country.isin(['Morocco','Germany','Spain','France'])].boxplot(by='Country', \n",
        "                       column=['Life_Expectancy'], \n",
        "                       grid=False)"
      ]
    },
    {
      "cell_type": "code",
      "execution_count": null,
      "id": "funded-sessions",
      "metadata": {
        "colab": {
          "base_uri": "https://localhost:8080/",
          "height": 245
        },
        "execution": {
          "iopub.execute_input": "2021-07-08T19:08:06.230842Z",
          "iopub.status.busy": "2021-07-08T19:08:06.229812Z",
          "iopub.status.idle": "2021-07-08T19:08:06.380455Z",
          "shell.execute_reply": "2021-07-08T19:08:06.380995Z",
          "shell.execute_reply.started": "2021-07-08T18:58:25.530605Z"
        },
        "id": "funded-sessions",
        "outputId": "0bf374c3-4abb-4dc3-f4f4-9f27c947a562",
        "papermill": {
          "duration": 0.239589,
          "end_time": "2021-07-08T19:08:06.381215",
          "exception": false,
          "start_time": "2021-07-08T19:08:06.141626",
          "status": "completed"
        },
        "tags": []
      },
      "outputs": [],
      "source": [
        "fig = plt.figure()\n",
        "ax1 = fig.add_subplot(211)\n",
        "data[data.Country.isin(['Morocco','Germany','Spain','France'])].groupby('Country')['Life_Expectancy'].mean().sort_values().plot(kind='barh', ax=ax1)"
      ]
    },
    {
      "cell_type": "code",
      "execution_count": null,
      "id": "floppy-headquarters",
      "metadata": {
        "colab": {
          "base_uri": "https://localhost:8080/",
          "height": 491
        },
        "execution": {
          "iopub.execute_input": "2021-07-08T19:08:06.575841Z",
          "iopub.status.busy": "2021-07-08T19:08:06.574780Z",
          "iopub.status.idle": "2021-07-08T19:08:06.962510Z",
          "shell.execute_reply": "2021-07-08T19:08:06.962982Z",
          "shell.execute_reply.started": "2021-07-08T18:58:27.358759Z"
        },
        "id": "floppy-headquarters",
        "outputId": "3342dee5-3cfb-4c01-e9c1-e633070524c8",
        "papermill": {
          "duration": 0.488798,
          "end_time": "2021-07-08T19:08:06.963191",
          "exception": false,
          "start_time": "2021-07-08T19:08:06.474393",
          "status": "completed"
        },
        "tags": []
      },
      "outputs": [],
      "source": [
        "# Life_Expectancy w.r.t Year using bar plot.\n",
        "plt.figure(figsize=(7,5))\n",
        "plt.bar(data.groupby('Year')['Year'].count().index, data.groupby('Year')['Life_Expectancy'].mean(),color='red',alpha=0.65)\n",
        "plt.xlabel(\"Year\",fontsize=12)\n",
        "plt.ylabel(\"Avg Life_Expectancy\",fontsize=12)\n",
        "plt.title(\"Life_Expectancy w.r.t Year\")\n",
        "plt.show()"
      ]
    },
    {
      "cell_type": "code",
      "execution_count": null,
      "id": "endangered-fleet",
      "metadata": {
        "colab": {
          "base_uri": "https://localhost:8080/",
          "height": 862
        },
        "execution": {
          "iopub.execute_input": "2021-07-08T19:08:07.137644Z",
          "iopub.status.busy": "2021-07-08T19:08:07.136676Z",
          "iopub.status.idle": "2021-07-08T19:08:09.176099Z",
          "shell.execute_reply": "2021-07-08T19:08:09.176594Z",
          "shell.execute_reply.started": "2021-07-08T18:58:29.781836Z"
        },
        "id": "endangered-fleet",
        "outputId": "b4f5573d-0338-476b-b049-ee919cabcf51",
        "papermill": {
          "duration": 2.128796,
          "end_time": "2021-07-08T19:08:09.176773",
          "exception": false,
          "start_time": "2021-07-08T19:08:07.047977",
          "status": "completed"
        },
        "tags": []
      },
      "outputs": [],
      "source": [
        "# Using heatmap to observe correlations.\n",
        "cormat = data.corr()\n",
        "plt.figure(figsize=(8,8))\n",
        "sns.heatmap(cormat, square=True, annot=True, linewidths=.5)\n",
        "plt.title(\"Correlation matrix among variables\")\n",
        "plt.show()"
      ]
    },
    {
      "cell_type": "markdown",
      "id": "limiting-powell",
      "metadata": {
        "id": "limiting-powell",
        "papermill": {
          "duration": 0.090751,
          "end_time": "2021-07-08T19:08:09.358040",
          "exception": false,
          "start_time": "2021-07-08T19:08:09.267289",
          "status": "completed"
        },
        "tags": []
      },
      "source": [
        "# **Observation**\n",
        "* **LifeExpectancy has a negative correlation with adult mortality** \n",
        "* **LifeExpectancy has strong correlatios with Schooling and Income composition of resources** \n",
        "* **Strong correlation between thinness_1to19_years and thinness_5to9_years** \n",
        "* **There is a non-negligible correlation between LifeExpectancy and BMI and body deseases** "
      ]
    },
    {
      "cell_type": "code",
      "execution_count": null,
      "id": "mexican-recipe",
      "metadata": {
        "colab": {
          "base_uri": "https://localhost:8080/",
          "height": 452
        },
        "execution": {
          "iopub.execute_input": "2021-07-08T19:08:09.542693Z",
          "iopub.status.busy": "2021-07-08T19:08:09.541692Z",
          "iopub.status.idle": "2021-07-08T19:08:09.708582Z",
          "shell.execute_reply": "2021-07-08T19:08:09.709072Z",
          "shell.execute_reply.started": "2021-07-08T18:58:42.893554Z"
        },
        "id": "mexican-recipe",
        "outputId": "f092a245-5902-4bf1-f0fa-6713f723bd35",
        "papermill": {
          "duration": 0.260574,
          "end_time": "2021-07-08T19:08:09.709272",
          "exception": false,
          "start_time": "2021-07-08T19:08:09.448698",
          "status": "completed"
        },
        "tags": []
      },
      "outputs": [],
      "source": [
        "plt.scatter(data[\"thinness_5to9_years\"], data[\"thinness_1to19_years\"])\n",
        "plt.title(\"thinness_1to19_years vs thinness_5to9_years\")\n",
        "plt.show()"
      ]
    },
    {
      "cell_type": "code",
      "execution_count": null,
      "id": "julian-bradley",
      "metadata": {
        "execution": {
          "iopub.execute_input": "2021-07-08T19:08:09.896228Z",
          "iopub.status.busy": "2021-07-08T19:08:09.895189Z",
          "iopub.status.idle": "2021-07-08T19:08:09.900892Z",
          "shell.execute_reply": "2021-07-08T19:08:09.901406Z",
          "shell.execute_reply.started": "2021-07-08T18:58:44.699411Z"
        },
        "id": "julian-bradley",
        "papermill": {
          "duration": 0.100482,
          "end_time": "2021-07-08T19:08:09.901591",
          "exception": false,
          "start_time": "2021-07-08T19:08:09.801109",
          "status": "completed"
        },
        "tags": []
      },
      "outputs": [],
      "source": [
        "#Strong correlation between \"thinness_1to19_years\" and \"thinness_5to9_years\"\n",
        "data = data.drop(['thinness_5to9_years'], axis=1)"
      ]
    },
    {
      "cell_type": "markdown",
      "id": "positive-people",
      "metadata": {
        "execution": {
          "iopub.execute_input": "2021-05-26T09:41:11.699096Z",
          "iopub.status.busy": "2021-05-26T09:41:11.698721Z",
          "iopub.status.idle": "2021-05-26T09:41:11.703364Z",
          "shell.execute_reply": "2021-05-26T09:41:11.702227Z",
          "shell.execute_reply.started": "2021-05-26T09:41:11.699061Z"
        },
        "id": "positive-people",
        "papermill": {
          "duration": 0.090997,
          "end_time": "2021-07-08T19:08:10.083665",
          "exception": false,
          "start_time": "2021-07-08T19:08:09.992668",
          "status": "completed"
        },
        "tags": []
      },
      "source": [
        "## **DEALING WITH MISSING DATA**"
      ]
    },
    {
      "cell_type": "code",
      "execution_count": null,
      "id": "egyptian-eligibility",
      "metadata": {
        "colab": {
          "base_uri": "https://localhost:8080/"
        },
        "execution": {
          "iopub.execute_input": "2021-07-08T19:08:10.268066Z",
          "iopub.status.busy": "2021-07-08T19:08:10.267111Z",
          "iopub.status.idle": "2021-07-08T19:08:10.277043Z",
          "shell.execute_reply": "2021-07-08T19:08:10.276429Z",
          "shell.execute_reply.started": "2021-07-08T18:58:59.823972Z"
        },
        "id": "egyptian-eligibility",
        "outputId": "3e538237-0f68-43c8-e1d9-6706e276f40b",
        "papermill": {
          "duration": 0.103248,
          "end_time": "2021-07-08T19:08:10.277198",
          "exception": false,
          "start_time": "2021-07-08T19:08:10.173950",
          "status": "completed"
        },
        "tags": []
      },
      "outputs": [],
      "source": [
        "data.isnull().sum()"
      ]
    },
    {
      "cell_type": "code",
      "execution_count": null,
      "id": "cleared-wagon",
      "metadata": {
        "colab": {
          "base_uri": "https://localhost:8080/"
        },
        "execution": {
          "iopub.execute_input": "2021-07-08T19:08:10.465877Z",
          "iopub.status.busy": "2021-07-08T19:08:10.465013Z",
          "iopub.status.idle": "2021-07-08T19:08:10.490908Z",
          "shell.execute_reply": "2021-07-08T19:08:10.490381Z",
          "shell.execute_reply.started": "2021-07-08T18:59:05.433598Z"
        },
        "id": "cleared-wagon",
        "outputId": "d59fe3ad-3256-4d9c-a925-c35891766371",
        "papermill": {
          "duration": 0.122647,
          "end_time": "2021-07-08T19:08:10.491058",
          "exception": false,
          "start_time": "2021-07-08T19:08:10.368411",
          "status": "completed"
        },
        "tags": []
      },
      "outputs": [],
      "source": [
        "# percentage of null values in each column.\n",
        "data.isnull().sum()*100/data.isnull().count()"
      ]
    },
    {
      "cell_type": "code",
      "execution_count": null,
      "id": "modular-couple",
      "metadata": {
        "execution": {
          "iopub.execute_input": "2021-07-08T19:08:10.680488Z",
          "iopub.status.busy": "2021-07-08T19:08:10.679538Z",
          "iopub.status.idle": "2021-07-08T19:08:10.682530Z",
          "shell.execute_reply": "2021-07-08T19:08:10.682981Z",
          "shell.execute_reply.started": "2021-07-08T18:59:07.796352Z"
        },
        "id": "modular-couple",
        "papermill": {
          "duration": 0.100726,
          "end_time": "2021-07-08T19:08:10.683166",
          "exception": false,
          "start_time": "2021-07-08T19:08:10.582440",
          "status": "completed"
        },
        "tags": []
      },
      "outputs": [],
      "source": [
        "country_list = data.Country.unique()\n",
        "fill_list = ['Life_Expectancy','Adult_Mortality','Alcohol','HepatitisB',\n",
        "             'BMI','Polio','Tot_Exp','Diphtheria','GDP','Population','thinness_1to19_years','Income_Comp_Of_Resources','Schooling']"
      ]
    },
    {
      "cell_type": "code",
      "execution_count": null,
      "id": "demanding-paint",
      "metadata": {
        "execution": {
          "iopub.execute_input": "2021-07-08T19:08:10.919221Z",
          "iopub.status.busy": "2021-07-08T19:08:10.882636Z",
          "iopub.status.idle": "2021-07-08T19:08:12.689528Z",
          "shell.execute_reply": "2021-07-08T19:08:12.688933Z",
          "shell.execute_reply.started": "2021-07-08T18:59:09.437095Z"
        },
        "id": "demanding-paint",
        "papermill": {
          "duration": 1.915707,
          "end_time": "2021-07-08T19:08:12.689672",
          "exception": false,
          "start_time": "2021-07-08T19:08:10.773965",
          "status": "completed"
        },
        "tags": []
      },
      "outputs": [],
      "source": [
        "# Treat null values using interpolation.\n",
        "for country in country_list:\n",
        "    data.loc[data['Country'] == country,fill_list] = data.loc[data['Country'] == country,fill_list].interpolate()"
      ]
    },
    {
      "cell_type": "code",
      "execution_count": null,
      "id": "spiritual-campbell",
      "metadata": {
        "execution": {
          "iopub.execute_input": "2021-07-08T19:08:12.880210Z",
          "iopub.status.busy": "2021-07-08T19:08:12.879169Z",
          "iopub.status.idle": "2021-07-08T19:08:12.883251Z",
          "shell.execute_reply": "2021-07-08T19:08:12.882738Z",
          "shell.execute_reply.started": "2021-07-08T19:00:11.753771Z"
        },
        "id": "spiritual-campbell",
        "papermill": {
          "duration": 0.10284,
          "end_time": "2021-07-08T19:08:12.883394",
          "exception": false,
          "start_time": "2021-07-08T19:08:12.780554",
          "status": "completed"
        },
        "tags": []
      },
      "outputs": [],
      "source": [
        "#Droping rows with null target variable\n",
        "data[np.isnan(data['Life_Expectancy'])]\n",
        "data = data.drop(data.index[[624, 769, 1650,1715,1812,1909,1958,2167,2216,2713]])"
      ]
    },
    {
      "cell_type": "code",
      "execution_count": null,
      "id": "exceptional-sunrise",
      "metadata": {
        "execution": {
          "iopub.execute_input": "2021-07-08T19:08:13.074255Z",
          "iopub.status.busy": "2021-07-08T19:08:13.073573Z",
          "iopub.status.idle": "2021-07-08T19:08:13.076877Z",
          "shell.execute_reply": "2021-07-08T19:08:13.076376Z",
          "shell.execute_reply.started": "2021-07-08T19:00:24.025546Z"
        },
        "id": "exceptional-sunrise",
        "papermill": {
          "duration": 0.102474,
          "end_time": "2021-07-08T19:08:13.077015",
          "exception": false,
          "start_time": "2021-07-08T19:08:12.974541",
          "status": "completed"
        },
        "tags": []
      },
      "outputs": [],
      "source": [
        "def impute_col(row, col): #MCAR\n",
        "    mean_col = pd.DataFrame({'mean_col':pd.Series(np.round(data.groupby('Country')[col].mean(), 2))})\n",
        "    if np.isnan(row[col]):\n",
        "        cnt = row['Country']\n",
        "        row[col] = mean_col.loc[cnt][0]\n",
        "    return row"
      ]
    },
    {
      "cell_type": "code",
      "execution_count": null,
      "id": "becoming-norway",
      "metadata": {
        "colab": {
          "base_uri": "https://localhost:8080/",
          "height": 574
        },
        "execution": {
          "iopub.execute_input": "2021-07-08T19:08:13.296532Z",
          "iopub.status.busy": "2021-07-08T19:08:13.278887Z",
          "iopub.status.idle": "2021-07-08T19:08:13.311404Z",
          "shell.execute_reply": "2021-07-08T19:08:13.311907Z",
          "shell.execute_reply.started": "2021-07-08T19:00:21.975863Z"
        },
        "id": "becoming-norway",
        "outputId": "39071860-707d-4a6c-e56b-99a8d0894b33",
        "papermill": {
          "duration": 0.14133,
          "end_time": "2021-07-08T19:08:13.312072",
          "exception": false,
          "start_time": "2021-07-08T19:08:13.170742",
          "status": "completed"
        },
        "tags": []
      },
      "outputs": [],
      "source": [
        "# Alcohol null values\n",
        "data[np.isnan(data.Alcohol)]"
      ]
    },
    {
      "cell_type": "code",
      "execution_count": null,
      "id": "informative-minneapolis",
      "metadata": {
        "execution": {
          "iopub.execute_input": "2021-07-08T19:08:13.505311Z",
          "iopub.status.busy": "2021-07-08T19:08:13.504653Z",
          "iopub.status.idle": "2021-07-08T19:08:18.375675Z",
          "shell.execute_reply": "2021-07-08T19:08:18.375059Z",
          "shell.execute_reply.started": "2021-07-08T19:01:16.872378Z"
        },
        "id": "informative-minneapolis",
        "papermill": {
          "duration": 4.970109,
          "end_time": "2021-07-08T19:08:18.375820",
          "exception": false,
          "start_time": "2021-07-08T19:08:13.405711",
          "status": "completed"
        },
        "tags": []
      },
      "outputs": [],
      "source": [
        "data = data.apply(impute_col, args=('Alcohol',) , axis=1)\n",
        "data = data[data.Country != 'South Sudan']"
      ]
    },
    {
      "cell_type": "code",
      "execution_count": null,
      "id": "mexican-gravity",
      "metadata": {
        "colab": {
          "base_uri": "https://localhost:8080/",
          "height": 1000
        },
        "execution": {
          "iopub.execute_input": "2021-07-08T19:08:18.593070Z",
          "iopub.status.busy": "2021-07-08T19:08:18.580030Z",
          "iopub.status.idle": "2021-07-08T19:08:18.613751Z",
          "shell.execute_reply": "2021-07-08T19:08:18.613218Z",
          "shell.execute_reply.started": "2021-07-08T19:01:21.612044Z"
        },
        "id": "mexican-gravity",
        "outputId": "bd4893fe-7eb9-4ad5-e591-5e323cffbdd9",
        "papermill": {
          "duration": 0.144821,
          "end_time": "2021-07-08T19:08:18.613901",
          "exception": false,
          "start_time": "2021-07-08T19:08:18.469080",
          "status": "completed"
        },
        "tags": []
      },
      "outputs": [],
      "source": [
        "# Hepatitis B null values\n",
        "data[np.isnan(data['HepatitisB'])]"
      ]
    },
    {
      "cell_type": "code",
      "execution_count": null,
      "id": "analyzed-leeds",
      "metadata": {
        "execution": {
          "iopub.execute_input": "2021-07-08T19:08:18.808476Z",
          "iopub.status.busy": "2021-07-08T19:08:18.807620Z",
          "iopub.status.idle": "2021-07-08T19:08:18.810443Z",
          "shell.execute_reply": "2021-07-08T19:08:18.809887Z",
          "shell.execute_reply.started": "2021-07-08T19:01:29.079907Z"
        },
        "id": "analyzed-leeds",
        "papermill": {
          "duration": 0.103105,
          "end_time": "2021-07-08T19:08:18.810588",
          "exception": false,
          "start_time": "2021-07-08T19:08:18.707483",
          "status": "completed"
        },
        "tags": []
      },
      "outputs": [],
      "source": [
        "data = data.drop(['HepatitisB'], axis=1)"
      ]
    },
    {
      "cell_type": "code",
      "execution_count": null,
      "id": "angry-token",
      "metadata": {
        "colab": {
          "base_uri": "https://localhost:8080/",
          "height": 615
        },
        "execution": {
          "iopub.execute_input": "2021-07-08T19:08:19.029493Z",
          "iopub.status.busy": "2021-07-08T19:08:19.013125Z",
          "iopub.status.idle": "2021-07-08T19:08:19.047448Z",
          "shell.execute_reply": "2021-07-08T19:08:19.047986Z",
          "shell.execute_reply.started": "2021-07-08T19:01:34.608522Z"
        },
        "id": "angry-token",
        "outputId": "ca1e5450-620f-4838-91c8-d7a82ab6af3a",
        "papermill": {
          "duration": 0.14229,
          "end_time": "2021-07-08T19:08:19.048185",
          "exception": false,
          "start_time": "2021-07-08T19:08:18.905895",
          "status": "completed"
        },
        "tags": []
      },
      "outputs": [],
      "source": [
        "#BMI null values\n",
        "data[np.isnan(data['BMI'])]"
      ]
    },
    {
      "cell_type": "code",
      "execution_count": null,
      "id": "neither-argentina",
      "metadata": {
        "execution": {
          "iopub.execute_input": "2021-07-08T19:08:19.242934Z",
          "iopub.status.busy": "2021-07-08T19:08:19.242264Z",
          "iopub.status.idle": "2021-07-08T19:08:19.248431Z",
          "shell.execute_reply": "2021-07-08T19:08:19.247790Z",
          "shell.execute_reply.started": "2021-07-08T19:01:36.867972Z"
        },
        "id": "neither-argentina",
        "papermill": {
          "duration": 0.104449,
          "end_time": "2021-07-08T19:08:19.248578",
          "exception": false,
          "start_time": "2021-07-08T19:08:19.144129",
          "status": "completed"
        },
        "tags": []
      },
      "outputs": [],
      "source": [
        "data = data[data.Country != 'Sudan']"
      ]
    },
    {
      "cell_type": "code",
      "execution_count": null,
      "id": "everyday-feelings",
      "metadata": {
        "execution": {
          "iopub.execute_input": "2021-07-08T19:08:19.446327Z",
          "iopub.status.busy": "2021-07-08T19:08:19.443824Z",
          "iopub.status.idle": "2021-07-08T19:08:24.377606Z",
          "shell.execute_reply": "2021-07-08T19:08:24.376971Z",
          "shell.execute_reply.started": "2021-07-08T19:01:38.693866Z"
        },
        "id": "everyday-feelings",
        "papermill": {
          "duration": 5.033999,
          "end_time": "2021-07-08T19:08:24.377760",
          "exception": false,
          "start_time": "2021-07-08T19:08:19.343761",
          "status": "completed"
        },
        "tags": []
      },
      "outputs": [],
      "source": [
        "#Total expenditure null values\n",
        "data = data.apply(impute_col, args=('Tot_Exp',) , axis=1)"
      ]
    },
    {
      "cell_type": "code",
      "execution_count": null,
      "id": "confidential-prompt",
      "metadata": {
        "execution": {
          "iopub.execute_input": "2021-07-08T19:08:24.574925Z",
          "iopub.status.busy": "2021-07-08T19:08:24.573469Z",
          "iopub.status.idle": "2021-07-08T19:08:24.581643Z",
          "shell.execute_reply": "2021-07-08T19:08:24.580952Z",
          "shell.execute_reply.started": "2021-07-08T19:01:43.269466Z"
        },
        "id": "confidential-prompt",
        "papermill": {
          "duration": 0.10756,
          "end_time": "2021-07-08T19:08:24.581798",
          "exception": false,
          "start_time": "2021-07-08T19:08:24.474238",
          "status": "completed"
        },
        "tags": []
      },
      "outputs": [],
      "source": [
        "data = data[~data['Country'].isin([\"Democratic People's Republic of Korea\",\"Somalia\"])]"
      ]
    },
    {
      "cell_type": "code",
      "execution_count": null,
      "id": "extended-nomination",
      "metadata": {
        "colab": {
          "base_uri": "https://localhost:8080/",
          "height": 487
        },
        "execution": {
          "iopub.execute_input": "2021-07-08T19:08:24.777784Z",
          "iopub.status.busy": "2021-07-08T19:08:24.776286Z",
          "iopub.status.idle": "2021-07-08T19:08:29.521399Z",
          "shell.execute_reply": "2021-07-08T19:08:29.520805Z",
          "shell.execute_reply.started": "2021-07-08T19:01:46.108346Z"
        },
        "id": "extended-nomination",
        "outputId": "6e739af5-c158-4a47-a0e6-000250633688",
        "papermill": {
          "duration": 4.845139,
          "end_time": "2021-07-08T19:08:29.521551",
          "exception": false,
          "start_time": "2021-07-08T19:08:24.676412",
          "status": "completed"
        },
        "tags": []
      },
      "outputs": [],
      "source": [
        "#GDP null values\n",
        "data = data.apply(impute_col, args=('GDP',) , axis=1)\n",
        "data"
      ]
    },
    {
      "cell_type": "code",
      "execution_count": null,
      "id": "stylish-housing",
      "metadata": {
        "execution": {
          "iopub.execute_input": "2021-07-08T19:08:29.715159Z",
          "iopub.status.busy": "2021-07-08T19:08:29.714136Z",
          "iopub.status.idle": "2021-07-08T19:08:29.721865Z",
          "shell.execute_reply": "2021-07-08T19:08:29.722345Z",
          "shell.execute_reply.started": "2021-07-08T19:01:50.560039Z"
        },
        "id": "stylish-housing",
        "papermill": {
          "duration": 0.106621,
          "end_time": "2021-07-08T19:08:29.722522",
          "exception": false,
          "start_time": "2021-07-08T19:08:29.615901",
          "status": "completed"
        },
        "tags": []
      },
      "outputs": [],
      "source": [
        "data = data.drop(['GDP'], axis=1)"
      ]
    },
    {
      "cell_type": "code",
      "execution_count": null,
      "id": "german-platinum",
      "metadata": {
        "execution": {
          "iopub.execute_input": "2021-07-08T19:08:29.917535Z",
          "iopub.status.busy": "2021-07-08T19:08:29.916536Z",
          "iopub.status.idle": "2021-07-08T19:08:34.691774Z",
          "shell.execute_reply": "2021-07-08T19:08:34.692258Z",
          "shell.execute_reply.started": "2021-07-08T19:01:52.163995Z"
        },
        "id": "german-platinum",
        "papermill": {
          "duration": 4.874683,
          "end_time": "2021-07-08T19:08:34.692437",
          "exception": false,
          "start_time": "2021-07-08T19:08:29.817754",
          "status": "completed"
        },
        "tags": []
      },
      "outputs": [],
      "source": [
        "#Population null values\n",
        "data = data.apply(impute_col, args=('Population',) , axis=1)"
      ]
    },
    {
      "cell_type": "code",
      "execution_count": null,
      "id": "loose-pasta",
      "metadata": {
        "colab": {
          "base_uri": "https://localhost:8080/"
        },
        "execution": {
          "iopub.execute_input": "2021-07-08T19:08:34.885570Z",
          "iopub.status.busy": "2021-07-08T19:08:34.884597Z",
          "iopub.status.idle": "2021-07-08T19:08:34.894431Z",
          "shell.execute_reply": "2021-07-08T19:08:34.894900Z",
          "shell.execute_reply.started": "2021-07-08T19:01:56.801696Z"
        },
        "id": "loose-pasta",
        "outputId": "1c1229a4-cce1-4678-a85e-9592ae409a2c",
        "papermill": {
          "duration": 0.107671,
          "end_time": "2021-07-08T19:08:34.895076",
          "exception": false,
          "start_time": "2021-07-08T19:08:34.787405",
          "status": "completed"
        },
        "tags": []
      },
      "outputs": [],
      "source": [
        "data[np.isnan(data.Population)]['Country'].unique()"
      ]
    },
    {
      "cell_type": "code",
      "execution_count": null,
      "id": "banner-appreciation",
      "metadata": {
        "execution": {
          "iopub.execute_input": "2021-07-08T19:08:35.090681Z",
          "iopub.status.busy": "2021-07-08T19:08:35.089730Z",
          "iopub.status.idle": "2021-07-08T19:08:35.094879Z",
          "shell.execute_reply": "2021-07-08T19:08:35.095346Z",
          "shell.execute_reply.started": "2021-07-08T19:01:59.174771Z"
        },
        "id": "banner-appreciation",
        "papermill": {
          "duration": 0.105175,
          "end_time": "2021-07-08T19:08:35.095514",
          "exception": false,
          "start_time": "2021-07-08T19:08:34.990339",
          "status": "completed"
        },
        "tags": []
      },
      "outputs": [],
      "source": [
        "data = data.drop(['Population'], axis=1)"
      ]
    },
    {
      "cell_type": "code",
      "execution_count": null,
      "id": "electronic-median",
      "metadata": {
        "execution": {
          "iopub.execute_input": "2021-07-08T19:08:35.290505Z",
          "iopub.status.busy": "2021-07-08T19:08:35.289520Z",
          "iopub.status.idle": "2021-07-08T19:08:40.036869Z",
          "shell.execute_reply": "2021-07-08T19:08:40.037460Z",
          "shell.execute_reply.started": "2021-07-08T19:02:00.792053Z"
        },
        "id": "electronic-median",
        "papermill": {
          "duration": 4.846421,
          "end_time": "2021-07-08T19:08:40.037657",
          "exception": false,
          "start_time": "2021-07-08T19:08:35.191236",
          "status": "completed"
        },
        "tags": []
      },
      "outputs": [],
      "source": [
        "#Income_Comp_Of_Resources\n",
        "data = data.apply(impute_col, args=('Income_Comp_Of_Resources',) , axis=1)"
      ]
    },
    {
      "cell_type": "code",
      "execution_count": null,
      "id": "independent-bachelor",
      "metadata": {
        "execution": {
          "iopub.execute_input": "2021-07-08T19:08:40.234249Z",
          "iopub.status.busy": "2021-07-08T19:08:40.233232Z",
          "iopub.status.idle": "2021-07-08T19:08:40.240798Z",
          "shell.execute_reply": "2021-07-08T19:08:40.241300Z",
          "shell.execute_reply.started": "2021-07-08T19:02:08.254279Z"
        },
        "id": "independent-bachelor",
        "papermill": {
          "duration": 0.106324,
          "end_time": "2021-07-08T19:08:40.241486",
          "exception": false,
          "start_time": "2021-07-08T19:08:40.135162",
          "status": "completed"
        },
        "tags": []
      },
      "outputs": [],
      "source": [
        "data = data.drop(['Income_Comp_Of_Resources'], axis=1)"
      ]
    },
    {
      "cell_type": "code",
      "execution_count": null,
      "id": "exempt-bridge",
      "metadata": {
        "execution": {
          "iopub.execute_input": "2021-07-08T19:08:40.435436Z",
          "iopub.status.busy": "2021-07-08T19:08:40.434424Z",
          "iopub.status.idle": "2021-07-08T19:08:45.304693Z",
          "shell.execute_reply": "2021-07-08T19:08:45.305201Z",
          "shell.execute_reply.started": "2021-07-08T19:02:09.130447Z"
        },
        "id": "exempt-bridge",
        "papermill": {
          "duration": 4.96909,
          "end_time": "2021-07-08T19:08:45.305396",
          "exception": false,
          "start_time": "2021-07-08T19:08:40.336306",
          "status": "completed"
        },
        "tags": []
      },
      "outputs": [],
      "source": [
        "#Schooling\n",
        "data = data.apply(impute_col, args=('Schooling',) , axis=1)\n",
        "data = data.drop(['Schooling'], axis=1)"
      ]
    },
    {
      "cell_type": "code",
      "execution_count": null,
      "id": "mechanical-notebook",
      "metadata": {
        "colab": {
          "base_uri": "https://localhost:8080/"
        },
        "execution": {
          "iopub.execute_input": "2021-07-08T19:08:45.499608Z",
          "iopub.status.busy": "2021-07-08T19:08:45.498640Z",
          "iopub.status.idle": "2021-07-08T19:08:45.507311Z",
          "shell.execute_reply": "2021-07-08T19:08:45.507760Z",
          "shell.execute_reply.started": "2021-07-08T19:02:12.972215Z"
        },
        "id": "mechanical-notebook",
        "outputId": "8b3db1f5-0d7e-462b-efcc-0445b208d079",
        "papermill": {
          "duration": 0.107304,
          "end_time": "2021-07-08T19:08:45.507934",
          "exception": false,
          "start_time": "2021-07-08T19:08:45.400630",
          "status": "completed"
        },
        "tags": []
      },
      "outputs": [],
      "source": [
        "data.isnull().sum()"
      ]
    },
    {
      "cell_type": "markdown",
      "id": "periodic-serve",
      "metadata": {
        "id": "periodic-serve",
        "papermill": {
          "duration": 0.094489,
          "end_time": "2021-07-08T19:08:45.697271",
          "exception": false,
          "start_time": "2021-07-08T19:08:45.602782",
          "status": "completed"
        },
        "tags": []
      },
      "source": [
        "# **OUTLIERS**"
      ]
    },
    {
      "cell_type": "code",
      "execution_count": null,
      "id": "patent-saying",
      "metadata": {
        "colab": {
          "base_uri": "https://localhost:8080/",
          "height": 1000
        },
        "execution": {
          "iopub.execute_input": "2021-07-08T19:08:45.891317Z",
          "iopub.status.busy": "2021-07-08T19:08:45.890333Z",
          "iopub.status.idle": "2021-07-08T19:08:47.285176Z",
          "shell.execute_reply": "2021-07-08T19:08:47.285674Z",
          "shell.execute_reply.started": "2021-07-08T19:02:15.195192Z"
        },
        "id": "patent-saying",
        "outputId": "95468625-554a-4593-ff4c-1e5baef6e9bd",
        "papermill": {
          "duration": 1.493777,
          "end_time": "2021-07-08T19:08:47.285851",
          "exception": false,
          "start_time": "2021-07-08T19:08:45.792074",
          "status": "completed"
        },
        "tags": []
      },
      "outputs": [],
      "source": [
        "# Create a dictionary of columns.\n",
        "col_dict = {'Life_Expectancy':1, 'Adult_Mortality':2,\n",
        "            'Infant_Deaths':3, 'Alcohol':4,\n",
        "            'Percentage_Exp':5,'Measles':6,\n",
        "            'BMI':7,'Under_Five_Deaths':8,\n",
        "            'Polio':9,'Tot_Exp':10,\n",
        "            'Diphtheria':11,'HIV/AIDS':12,\n",
        "            'thinness_1to19_years':13}\n",
        "\n",
        "# Detect outliers in each variable using box plots.\n",
        "plt.figure(figsize=(20,30))\n",
        "\n",
        "for variable,i in col_dict.items():\n",
        "                     plt.subplot(5,4,i)\n",
        "                     plt.boxplot(data[variable])\n",
        "                     plt.title(variable)\n",
        "\n",
        "plt.show()"
      ]
    },
    {
      "cell_type": "code",
      "execution_count": null,
      "id": "amino-whale",
      "metadata": {
        "colab": {
          "base_uri": "https://localhost:8080/",
          "height": 270
        },
        "execution": {
          "iopub.execute_input": "2021-07-08T19:08:47.485526Z",
          "iopub.status.busy": "2021-07-08T19:08:47.484531Z",
          "iopub.status.idle": "2021-07-08T19:08:47.507205Z",
          "shell.execute_reply": "2021-07-08T19:08:47.507692Z",
          "shell.execute_reply.started": "2021-07-08T19:02:19.813214Z"
        },
        "id": "amino-whale",
        "outputId": "9ab146ac-7c83-4dae-8821-04c12e07c1df",
        "papermill": {
          "duration": 0.123931,
          "end_time": "2021-07-08T19:08:47.507863",
          "exception": false,
          "start_time": "2021-07-08T19:08:47.383932",
          "status": "completed"
        },
        "tags": []
      },
      "outputs": [],
      "source": [
        "data.head()"
      ]
    },
    {
      "cell_type": "markdown",
      "id": "wrapped-toner",
      "metadata": {
        "id": "wrapped-toner",
        "papermill": {
          "duration": 0.097966,
          "end_time": "2021-07-08T19:08:47.704523",
          "exception": false,
          "start_time": "2021-07-08T19:08:47.606557",
          "status": "completed"
        },
        "tags": []
      },
      "source": [
        "# **FEATURE SELECTION**"
      ]
    },
    {
      "cell_type": "code",
      "execution_count": null,
      "id": "romantic-reliance",
      "metadata": {
        "colab": {
          "base_uri": "https://localhost:8080/"
        },
        "execution": {
          "iopub.execute_input": "2021-07-08T19:08:47.905235Z",
          "iopub.status.busy": "2021-07-08T19:08:47.904249Z",
          "iopub.status.idle": "2021-07-08T19:08:47.916194Z",
          "shell.execute_reply": "2021-07-08T19:08:47.915669Z",
          "shell.execute_reply.started": "2021-07-08T19:02:22.004992Z"
        },
        "id": "romantic-reliance",
        "outputId": "ad40715d-986a-460b-a2c3-5c6e7ba7656e",
        "papermill": {
          "duration": 0.113369,
          "end_time": "2021-07-08T19:08:47.916339",
          "exception": false,
          "start_time": "2021-07-08T19:08:47.802970",
          "status": "completed"
        },
        "tags": []
      },
      "outputs": [],
      "source": [
        "import scipy.stats as stats\n",
        "stats.ttest_ind(data.loc[data['Status']=='Developed','Life_Expectancy'],data.loc[data['Status']=='Developing','Life_Expectancy'])"
      ]
    },
    {
      "cell_type": "markdown",
      "id": "atlantic-charity",
      "metadata": {
        "id": "atlantic-charity",
        "papermill": {
          "duration": 0.100409,
          "end_time": "2021-07-08T19:08:48.115667",
          "exception": false,
          "start_time": "2021-07-08T19:08:48.015258",
          "status": "completed"
        },
        "tags": []
      },
      "source": [
        "**p value is < 0.05\n",
        "Therefore, the difference of Life Expectancy between Developed and Developing countries is significant. We can consider 'Status' as a feature.**\n",
        "\n",
        "**Also \"Adult mortality\" : -0.7, \"HIV/AIDS\" : -0.56,  \"BMI\" : 0.57, \"Polio\" : 0.47, \"GDP\" : 0.46, \"Alcohol\" : 0.4, \"thinness_1to19_years\" : 0.45**"
      ]
    },
    {
      "cell_type": "markdown",
      "id": "empirical-diagnosis",
      "metadata": {
        "id": "empirical-diagnosis",
        "papermill": {
          "duration": 0.098198,
          "end_time": "2021-07-08T19:08:48.312579",
          "exception": false,
          "start_time": "2021-07-08T19:08:48.214381",
          "status": "completed"
        },
        "tags": []
      },
      "source": [
        "# **FEATURE ENGINEERING**"
      ]
    },
    {
      "cell_type": "markdown",
      "id": "injured-commission",
      "metadata": {
        "id": "injured-commission",
        "papermill": {
          "duration": 0.098279,
          "end_time": "2021-07-08T19:08:48.509230",
          "exception": false,
          "start_time": "2021-07-08T19:08:48.410951",
          "status": "completed"
        },
        "tags": []
      },
      "source": [
        "* **DUMMIFICATION OF STATUS**\n",
        "* **NORMALIZING NUMERICAL FEATURES**"
      ]
    },
    {
      "cell_type": "code",
      "execution_count": null,
      "id": "relevant-morning",
      "metadata": {
        "execution": {
          "iopub.execute_input": "2021-07-08T19:08:48.712713Z",
          "iopub.status.busy": "2021-07-08T19:08:48.711979Z",
          "iopub.status.idle": "2021-07-08T19:08:48.714186Z",
          "shell.execute_reply": "2021-07-08T19:08:48.714680Z",
          "shell.execute_reply.started": "2021-07-08T19:02:29.546996Z"
        },
        "id": "relevant-morning",
        "papermill": {
          "duration": 0.10709,
          "end_time": "2021-07-08T19:08:48.714852",
          "exception": false,
          "start_time": "2021-07-08T19:08:48.607762",
          "status": "completed"
        },
        "tags": []
      },
      "outputs": [],
      "source": [
        "feature_df = data[['Country','Status','Adult_Mortality','Alcohol','HIV/AIDS','Polio','BMI', 'thinness_1to19_years','Life_Expectancy']]"
      ]
    },
    {
      "cell_type": "code",
      "execution_count": null,
      "id": "ahead-promise",
      "metadata": {
        "execution": {
          "iopub.execute_input": "2021-07-08T19:08:48.919817Z",
          "iopub.status.busy": "2021-07-08T19:08:48.919074Z",
          "iopub.status.idle": "2021-07-08T19:08:48.926254Z",
          "shell.execute_reply": "2021-07-08T19:08:48.926787Z",
          "shell.execute_reply.started": "2021-07-08T19:02:31.709588Z"
        },
        "id": "ahead-promise",
        "papermill": {
          "duration": 0.110866,
          "end_time": "2021-07-08T19:08:48.926982",
          "exception": false,
          "start_time": "2021-07-08T19:08:48.816116",
          "status": "completed"
        },
        "tags": []
      },
      "outputs": [],
      "source": [
        "feature_df = pd.concat([feature_df,pd.get_dummies(feature_df['Status'],drop_first=True)],axis=1)\n",
        "final = feature_df.drop('Status',axis=1)"
      ]
    },
    {
      "cell_type": "code",
      "execution_count": null,
      "id": "intensive-parade",
      "metadata": {
        "execution": {
          "iopub.execute_input": "2021-07-08T19:08:49.131472Z",
          "iopub.status.busy": "2021-07-08T19:08:49.130743Z",
          "iopub.status.idle": "2021-07-08T19:08:49.467278Z",
          "shell.execute_reply": "2021-07-08T19:08:49.467821Z",
          "shell.execute_reply.started": "2021-07-08T19:02:34.256023Z"
        },
        "id": "intensive-parade",
        "papermill": {
          "duration": 0.441009,
          "end_time": "2021-07-08T19:08:49.467997",
          "exception": false,
          "start_time": "2021-07-08T19:08:49.026988",
          "status": "completed"
        },
        "tags": []
      },
      "outputs": [],
      "source": [
        "final['Adult_Mortality_scaled'] =final['Adult_Mortality'].apply(lambda x : ((x-np.min(final['Adult_Mortality']))/(np.max(final['Adult_Mortality'])-np.min(final['Adult_Mortality'])) * (20)))"
      ]
    },
    {
      "cell_type": "code",
      "execution_count": null,
      "id": "continuous-skirt",
      "metadata": {
        "execution": {
          "iopub.execute_input": "2021-07-08T19:08:49.672869Z",
          "iopub.status.busy": "2021-07-08T19:08:49.672199Z",
          "iopub.status.idle": "2021-07-08T19:08:50.019281Z",
          "shell.execute_reply": "2021-07-08T19:08:50.019827Z",
          "shell.execute_reply.started": "2021-07-08T19:02:58.749739Z"
        },
        "id": "continuous-skirt",
        "papermill": {
          "duration": 0.451464,
          "end_time": "2021-07-08T19:08:50.020008",
          "exception": false,
          "start_time": "2021-07-08T19:08:49.568544",
          "status": "completed"
        },
        "tags": []
      },
      "outputs": [],
      "source": [
        "final['Polio_scaled'] =final['Polio'].apply(lambda x : ((x-np.min(final['Polio']))/(np.max(final['Polio'])-np.min(final['Polio'])) * (20)))"
      ]
    },
    {
      "cell_type": "code",
      "execution_count": null,
      "id": "separate-plane",
      "metadata": {
        "execution": {
          "iopub.execute_input": "2021-07-08T19:08:50.223961Z",
          "iopub.status.busy": "2021-07-08T19:08:50.223298Z",
          "iopub.status.idle": "2021-07-08T19:08:50.266300Z",
          "shell.execute_reply": "2021-07-08T19:08:50.265123Z",
          "shell.execute_reply.started": "2021-07-08T19:03:00.432631Z"
        },
        "id": "separate-plane",
        "papermill": {
          "duration": 0.145301,
          "end_time": "2021-07-08T19:08:50.266468",
          "exception": false,
          "start_time": "2021-07-08T19:08:50.121167",
          "status": "completed"
        },
        "tags": []
      },
      "outputs": [],
      "source": [
        "final.to_csv('./final.csv',index = False) "
      ]
    },
    {
      "cell_type": "code",
      "execution_count": null,
      "id": "pleasant-dealer",
      "metadata": {
        "execution": {
          "iopub.execute_input": "2021-07-08T19:08:50.471875Z",
          "iopub.status.busy": "2021-07-08T19:08:50.471191Z",
          "iopub.status.idle": "2021-07-08T19:08:50.482120Z",
          "shell.execute_reply": "2021-07-08T19:08:50.481470Z",
          "shell.execute_reply.started": "2021-07-08T19:03:03.303041Z"
        },
        "id": "pleasant-dealer",
        "papermill": {
          "duration": 0.116007,
          "end_time": "2021-07-08T19:08:50.482347",
          "exception": false,
          "start_time": "2021-07-08T19:08:50.366340",
          "status": "completed"
        },
        "tags": []
      },
      "outputs": [],
      "source": [
        "final = pd.read_csv('./final.csv')"
      ]
    },
    {
      "cell_type": "code",
      "execution_count": null,
      "id": "interim-tourist",
      "metadata": {
        "colab": {
          "base_uri": "https://localhost:8080/",
          "height": 206
        },
        "execution": {
          "iopub.execute_input": "2021-07-08T19:08:50.702628Z",
          "iopub.status.busy": "2021-07-08T19:08:50.701502Z",
          "iopub.status.idle": "2021-07-08T19:08:50.707045Z",
          "shell.execute_reply": "2021-07-08T19:08:50.706566Z",
          "shell.execute_reply.started": "2021-07-08T19:03:04.645103Z"
        },
        "id": "interim-tourist",
        "outputId": "83a6a00e-d724-463a-f6fd-8c391b95c342",
        "papermill": {
          "duration": 0.121891,
          "end_time": "2021-07-08T19:08:50.707216",
          "exception": false,
          "start_time": "2021-07-08T19:08:50.585325",
          "status": "completed"
        },
        "tags": []
      },
      "outputs": [],
      "source": [
        "final.head()"
      ]
    },
    {
      "cell_type": "markdown",
      "id": "distributed-commodity",
      "metadata": {
        "id": "distributed-commodity",
        "papermill": {
          "duration": 0.100698,
          "end_time": "2021-07-08T19:08:50.908242",
          "exception": false,
          "start_time": "2021-07-08T19:08:50.807544",
          "status": "completed"
        },
        "tags": []
      },
      "source": [
        "# **EMBED THE COUNTRY FEATURE**"
      ]
    },
    {
      "cell_type": "code",
      "execution_count": null,
      "id": "occupational-collective",
      "metadata": {
        "execution": {
          "iopub.execute_input": "2021-07-08T19:08:51.115870Z",
          "iopub.status.busy": "2021-07-08T19:08:51.115155Z",
          "iopub.status.idle": "2021-07-08T19:08:51.117300Z",
          "shell.execute_reply": "2021-07-08T19:08:51.117880Z",
          "shell.execute_reply.started": "2021-07-08T19:03:06.567597Z"
        },
        "id": "occupational-collective",
        "papermill": {
          "duration": 0.109659,
          "end_time": "2021-07-08T19:08:51.118048",
          "exception": false,
          "start_time": "2021-07-08T19:08:51.008389",
          "status": "completed"
        },
        "tags": []
      },
      "outputs": [],
      "source": [
        "countries = final.Country.unique()\n",
        "country_dict = {'countries': list(countries)}\n",
        "country_df = pd.DataFrame(country_dict)"
      ]
    },
    {
      "cell_type": "code",
      "execution_count": null,
      "id": "spectacular-premium",
      "metadata": {
        "execution": {
          "iopub.execute_input": "2021-07-08T19:08:51.319352Z",
          "iopub.status.busy": "2021-07-08T19:08:51.318730Z",
          "iopub.status.idle": "2021-07-08T19:08:51.322775Z",
          "shell.execute_reply": "2021-07-08T19:08:51.323367Z",
          "shell.execute_reply.started": "2021-07-08T19:03:07.796667Z"
        },
        "id": "spectacular-premium",
        "papermill": {
          "duration": 0.105915,
          "end_time": "2021-07-08T19:08:51.323526",
          "exception": false,
          "start_time": "2021-07-08T19:08:51.217611",
          "status": "completed"
        },
        "tags": []
      },
      "outputs": [],
      "source": [
        "def demo(feature_column):\n",
        "    feature_layer = layers.DenseFeatures(feature_column)\n",
        "    return feature_layer(country_dict).numpy()"
      ]
    },
    {
      "cell_type": "code",
      "execution_count": null,
      "id": "bridal-accommodation",
      "metadata": {
        "colab": {
          "base_uri": "https://localhost:8080/"
        },
        "execution": {
          "iopub.execute_input": "2021-07-08T19:08:51.525945Z",
          "iopub.status.busy": "2021-07-08T19:08:51.525343Z",
          "iopub.status.idle": "2021-07-08T19:08:51.530704Z",
          "shell.execute_reply": "2021-07-08T19:08:51.530149Z",
          "shell.execute_reply.started": "2021-07-08T19:03:10.080691Z"
        },
        "id": "bridal-accommodation",
        "outputId": "11b4ab89-f485-4d48-be34-93196eb277bb",
        "papermill": {
          "duration": 0.107368,
          "end_time": "2021-07-08T19:08:51.530846",
          "exception": false,
          "start_time": "2021-07-08T19:08:51.423478",
          "status": "completed"
        },
        "tags": []
      },
      "outputs": [],
      "source": [
        "countries = feature_column.categorical_column_with_vocabulary_list(\n",
        " 'countries', country_df['countries'])"
      ]
    },
    {
      "cell_type": "code",
      "execution_count": null,
      "id": "selected-garbage",
      "metadata": {
        "colab": {
          "base_uri": "https://localhost:8080/"
        },
        "execution": {
          "iopub.execute_input": "2021-07-08T19:08:51.734429Z",
          "iopub.status.busy": "2021-07-08T19:08:51.733752Z",
          "iopub.status.idle": "2021-07-08T19:08:51.736801Z",
          "shell.execute_reply": "2021-07-08T19:08:51.736275Z",
          "shell.execute_reply.started": "2021-07-08T19:03:12.069169Z"
        },
        "id": "selected-garbage",
        "outputId": "a58a73ed-4385-4193-e792-2f30281a7f20",
        "papermill": {
          "duration": 0.106751,
          "end_time": "2021-07-08T19:08:51.736936",
          "exception": false,
          "start_time": "2021-07-08T19:08:51.630185",
          "status": "completed"
        },
        "tags": []
      },
      "outputs": [],
      "source": [
        "countries_embedding = feature_column.embedding_column(countries, dimension=4)"
      ]
    },
    {
      "cell_type": "code",
      "execution_count": null,
      "id": "expected-reconstruction",
      "metadata": {
        "execution": {
          "iopub.execute_input": "2021-07-08T19:08:51.989765Z",
          "iopub.status.busy": "2021-07-08T19:08:51.989070Z",
          "iopub.status.idle": "2021-07-08T19:08:52.132907Z",
          "shell.execute_reply": "2021-07-08T19:08:52.132329Z",
          "shell.execute_reply.started": "2021-07-08T19:03:13.247094Z"
        },
        "id": "expected-reconstruction",
        "papermill": {
          "duration": 0.296288,
          "end_time": "2021-07-08T19:08:52.133058",
          "exception": false,
          "start_time": "2021-07-08T19:08:51.836770",
          "status": "completed"
        },
        "tags": []
      },
      "outputs": [],
      "source": [
        "countries_embedding =  demo(countries_embedding)"
      ]
    },
    {
      "cell_type": "code",
      "execution_count": null,
      "id": "tired-steering",
      "metadata": {
        "execution": {
          "iopub.execute_input": "2021-07-08T19:08:52.339405Z",
          "iopub.status.busy": "2021-07-08T19:08:52.338393Z",
          "iopub.status.idle": "2021-07-08T19:08:52.342837Z",
          "shell.execute_reply": "2021-07-08T19:08:52.343302Z",
          "shell.execute_reply.started": "2021-07-08T19:03:16.486614Z"
        },
        "id": "tired-steering",
        "papermill": {
          "duration": 0.109364,
          "end_time": "2021-07-08T19:08:52.343473",
          "exception": false,
          "start_time": "2021-07-08T19:08:52.234109",
          "status": "completed"
        },
        "tags": []
      },
      "outputs": [],
      "source": [
        "b = []\n",
        "for embed in countries_embedding:\n",
        "    b.extend([embed] * 16)"
      ]
    },
    {
      "cell_type": "code",
      "execution_count": null,
      "id": "unlikely-binding",
      "metadata": {
        "execution": {
          "iopub.execute_input": "2021-07-08T19:08:52.547114Z",
          "iopub.status.busy": "2021-07-08T19:08:52.546137Z",
          "iopub.status.idle": "2021-07-08T19:08:52.551363Z",
          "shell.execute_reply": "2021-07-08T19:08:52.551847Z",
          "shell.execute_reply.started": "2021-07-08T19:03:17.145364Z"
        },
        "id": "unlikely-binding",
        "papermill": {
          "duration": 0.108452,
          "end_time": "2021-07-08T19:08:52.552007",
          "exception": false,
          "start_time": "2021-07-08T19:08:52.443555",
          "status": "completed"
        },
        "tags": []
      },
      "outputs": [],
      "source": [
        "final['countries_embedding'] = pd.Series(b)"
      ]
    },
    {
      "cell_type": "code",
      "execution_count": null,
      "id": "greater-leader",
      "metadata": {
        "execution": {
          "iopub.execute_input": "2021-07-08T19:08:52.754581Z",
          "iopub.status.busy": "2021-07-08T19:08:52.753578Z",
          "iopub.status.idle": "2021-07-08T19:08:52.771478Z",
          "shell.execute_reply": "2021-07-08T19:08:52.771974Z",
          "shell.execute_reply.started": "2021-07-08T19:03:19.104975Z"
        },
        "id": "greater-leader",
        "papermill": {
          "duration": 0.121166,
          "end_time": "2021-07-08T19:08:52.772187",
          "exception": false,
          "start_time": "2021-07-08T19:08:52.651021",
          "status": "completed"
        },
        "tags": []
      },
      "outputs": [],
      "source": [
        "final['sum_countries_embedding'] = final['countries_embedding'].apply(lambda x: x.sum())"
      ]
    },
    {
      "cell_type": "code",
      "execution_count": null,
      "id": "conservative-generic",
      "metadata": {
        "execution": {
          "iopub.execute_input": "2021-07-08T19:08:52.977071Z",
          "iopub.status.busy": "2021-07-08T19:08:52.976041Z",
          "iopub.status.idle": "2021-07-08T19:08:52.981445Z",
          "shell.execute_reply": "2021-07-08T19:08:52.981919Z",
          "shell.execute_reply.started": "2021-07-08T19:03:20.373705Z"
        },
        "id": "conservative-generic",
        "papermill": {
          "duration": 0.109242,
          "end_time": "2021-07-08T19:08:52.982117",
          "exception": false,
          "start_time": "2021-07-08T19:08:52.872875",
          "status": "completed"
        },
        "tags": []
      },
      "outputs": [],
      "source": [
        "final =  final.rename(columns={\"HIV/AIDS\": \"hivaids\"})"
      ]
    },
    {
      "cell_type": "code",
      "execution_count": null,
      "id": "earned-rebate",
      "metadata": {
        "execution": {
          "iopub.execute_input": "2021-07-08T19:08:53.214182Z",
          "iopub.status.busy": "2021-07-08T19:08:53.213199Z",
          "iopub.status.idle": "2021-07-08T19:08:53.217575Z",
          "shell.execute_reply": "2021-07-08T19:08:53.218044Z",
          "shell.execute_reply.started": "2021-07-08T19:03:22.491312Z"
        },
        "id": "earned-rebate",
        "papermill": {
          "duration": 0.12246,
          "end_time": "2021-07-08T19:08:53.218245",
          "exception": false,
          "start_time": "2021-07-08T19:08:53.095785",
          "status": "completed"
        },
        "tags": []
      },
      "outputs": [],
      "source": [
        "feature_df = ['sum_countries_embedding','Adult_Mortality_scaled','Alcohol','hivaids','Polio_scaled','BMI', 'thinness_1to19_years','Developing']"
      ]
    },
    {
      "cell_type": "code",
      "execution_count": null,
      "id": "6q4wAmCFdhnP",
      "metadata": {
        "colab": {
          "base_uri": "https://localhost:8080/",
          "height": 834
        },
        "id": "6q4wAmCFdhnP",
        "outputId": "6480f7b7-1ea4-43dc-e323-c40b157ad830"
      },
      "outputs": [],
      "source": [
        "final"
      ]
    },
    {
      "cell_type": "markdown",
      "id": "simplified-enforcement",
      "metadata": {
        "id": "simplified-enforcement",
        "papermill": {
          "duration": 0.100191,
          "end_time": "2021-07-08T19:08:53.418695",
          "exception": false,
          "start_time": "2021-07-08T19:08:53.318504",
          "status": "completed"
        },
        "tags": []
      },
      "source": [
        "# **TRAINING**"
      ]
    },
    {
      "cell_type": "code",
      "execution_count": null,
      "id": "697cbb28",
      "metadata": {
        "colab": {
          "base_uri": "https://localhost:8080/"
        },
        "id": "697cbb28",
        "outputId": "471685bd-06b7-4208-c70c-4f0196a4f592"
      },
      "outputs": [],
      "source": [
        "# split the data into training and testing sets\n",
        "import statsmodels.api as sm\n",
        "import statsmodels.formula.api as smf\n",
        "from sklearn.metrics import mean_squared_error, r2_score\n",
        "from sklearn.neural_network import MLPRegressor\n",
        "from sklearn.linear_model import LinearRegression\n",
        "from sklearn.ensemble import RandomForestRegressor\n",
        "\n",
        "# df = pd.read_csv('Life Expectancy Data.csv')\n",
        "X = final.loc[:,feature_df]\n",
        "y = final.Life_Expectancy\n",
        "X_train, X_test, y_train, y_test = train_test_split(X, y, test_size=0.2, random_state=42)\n",
        "\n",
        "# train and evaluate linear regression model\n",
        "lr = LinearRegression()\n",
        "lr.fit(X_train, y_train)\n",
        "lr_pred = lr.predict(X_test)\n",
        "lr_mse = mean_squared_error(y_test, lr_pred)\n",
        "lr_r2 = lr.score(X_test, y_test)\n",
        "\n",
        "# train and evaluate mixed effects model\n",
        "# (assuming the data has a nested structure with country as a random effect)\n",
        "mixed_model = smf.mixedlm(\"Life_Expectancy ~ Adult_Mortality_scaled + Alcohol + Polio_scaled + hivaids + BMI + thinness_1to19_years + Developing\", \n",
        "                 final, groups=final[\"sum_countries_embedding\"], re_formula=\"~Adult_Mortality_scaled + Alcohol + Polio_scaled + hivaids + BMI + thinness_1to19_years + Developing\") \n",
        "mixed_results = mixed_model.fit()\n",
        "mixed_pred = mixed_results.predict(X_test)\n",
        "mixed_mse = mean_squared_error(y_test, mixed_pred)\n",
        "mixed_r2 = sm.OLS(y_test, mixed_pred).fit().rsquared\n",
        "\n",
        "# train and evaluate neural network model\n",
        "nn = MLPRegressor(hidden_layer_sizes=(100,), activation=\"relu\", solver=\"adam\", max_iter=1000)\n",
        "nn.fit(X_train, y_train)\n",
        "nn_pred = nn.predict(X_test)\n",
        "nn_mse = mean_squared_error(y_test, nn_pred)\n",
        "nn_r2 = nn.score(X_test, y_test)\n",
        "\n",
        "# create a Random Forest Regressor object and set the hyperparameters\n",
        "rf_reg = RandomForestRegressor(n_estimators = 100, max_depth = 10, random_state = 42)\n",
        "rf_reg.fit(X_train, y_train)\n",
        "rf_reg_pred = rf_reg.predict(X_test)\n",
        "rf_reg_mse = mean_squared_error(y_test, rf_reg_pred)\n",
        "rf_reg_r2 = rf_reg.score(X_test, y_test)\n",
        "\n",
        "# print the MSE for each model\n",
        "print(\"Linear Regression MSE:\", lr_mse)\n",
        "print(\"Mixed Effects Model MSE:\", mixed_mse)\n",
        "print(\"Neural Network MSE:\", nn_mse)\n",
        "print(\"Random Forest Regressor MSE:\", rf_reg_mse)\n",
        "\n",
        "# print the R_Squared value for each model\n",
        "print(\"Linear Regression R_2:\", lr_r2)\n",
        "print(\"Mixed Effects Model R_2:\", mixed_r2)\n",
        "print(\"Neural Network R_2:\", nn_r2)\n",
        "print(\"Random Forest Regressor R_2:\", rf_reg_r2)"
      ]
    },
    {
      "cell_type": "code",
      "execution_count": null,
      "id": "y977oEdmDvG8",
      "metadata": {
        "colab": {
          "base_uri": "https://localhost:8080/",
          "height": 175
        },
        "id": "y977oEdmDvG8",
        "outputId": "c9d9094e-3291-4237-a9f5-c5a9672cfb0e"
      },
      "outputs": [],
      "source": [
        "df_scores = pd.DataFrame([['Linear Regression', lr_mse, lr_r2], ['Mixed Effects Model', mixed_mse, mixed_r2], ['Neural Network', nn_mse, nn_r2],\n",
        "                                                            ['Random Forest Regressor', rf_reg_mse, rf_reg_r2]], columns = ['Model Name', 'MSE_Value', 'R2_Value'])\n",
        "df_scores"
      ]
    },
    {
      "cell_type": "markdown",
      "id": "rnX77EknEv2n",
      "metadata": {
        "id": "rnX77EknEv2n"
      },
      "source": [
        "The table provides the results of four different models, where each model has been evaluated based on two metrics: mean squared error (MSE) and R-squared value.\n",
        "\n",
        "MSE measures the average squared difference between the predicted values and the actual values of the dependent variable. A lower MSE indicates better performance of the model in predicting the dependent variable.\n",
        "\n",
        "R-squared measures the proportion of variance in the dependent variable that is explained by the independent variables in the model. A higher R-squared value indicates better fit of the model to the data.\n",
        "\n",
        "Looking at the table, we can see that the Random Forest Regressor model has the lowest MSE value (4.153755) compared to other models, indicating that this model has the best performance in predicting the dependent variable. The Mixed Effects Model has the highest MSE value (75.198735), which indicates relatively poor performance in predicting the dependent variable.\n",
        "\n",
        "Moreover, the table shows that the Mixed Effects Model has the highest R-squared value (0.984771), which indicates that this model explains a large proportion of the variance in the dependent variable. The Linear Regression and Neural Network models also have high R-squared values (0.700833 and 0.880466, respectively), but they are lower than the R-squared value of the Mixed Effects Model. The Random Forest Regressor has an R-squared value of 0.950499, which is lower than the Mixed Effects Model but still indicates good performance in explaining the variance in the dependent variable.\n",
        "\n",
        "Overall, it is important to evaluate both MSE and R-squared values when comparing models, as they provide complementary information on the performance and fit of the models to the data."
      ]
    },
    {
      "cell_type": "code",
      "execution_count": null,
      "id": "vZN9whHhFQ7I",
      "metadata": {
        "colab": {
          "base_uri": "https://localhost:8080/",
          "height": 487
        },
        "id": "vZN9whHhFQ7I",
        "outputId": "23aa35e1-2b86-47fc-9040-96b9673cc221"
      },
      "outputs": [],
      "source": [
        "# create a list of predicted values and actual values for each model\n",
        "lr_cumulative = np.cumsum(np.sort(lr_pred)[::-1])\n",
        "lr_percentage = 100 * lr_cumulative / np.sum(y_test)\n",
        "mixed_cumulative = np.cumsum(np.sort(mixed_pred)[::-1])\n",
        "mixed_percentage = 100 * mixed_cumulative / np.sum(y_test)\n",
        "nn_cumulative = np.cumsum(np.sort(nn_pred)[::-1])\n",
        "nn_percentage = 100 * nn_cumulative / np.sum(y_test)\n",
        "rf_cumulative = np.cumsum(np.sort(rf_reg_pred)[::-1])\n",
        "rf_percentage = 100 * rf_cumulative / np.sum(y_test)\n",
        "\n",
        "# plot the gains chart for each model\n",
        "plt.plot(np.arange(0, 101, 10), lr_percentage[::57], label='Linear Regression')\n",
        "plt.plot(np.arange(0, 101, 10), mixed_percentage[::57], label='Mixed Effects Model')\n",
        "plt.plot(np.arange(0, 101, 10), nn_percentage[::57], label='Neural Network')\n",
        "plt.plot(np.arange(0, 101, 10), rf_percentage[::57], label='Random Forest Regressor')\n",
        "plt.plot([0, 100], [0, 100], linestyle='--', label='Baseline')\n",
        "\n",
        "plt.title('Gains Chart')\n",
        "plt.legend()\n",
        "plt.tight_layout()\n",
        "plt.show()"
      ]
    },
    {
      "cell_type": "markdown",
      "id": "alleged-offset",
      "metadata": {
        "id": "alleged-offset",
        "papermill": {
          "duration": 0.099503,
          "end_time": "2021-07-08T19:08:53.617980",
          "exception": false,
          "start_time": "2021-07-08T19:08:53.518477",
          "status": "completed"
        },
        "tags": []
      },
      "source": [
        "## **LINEAR REGRESSION**"
      ]
    },
    {
      "cell_type": "code",
      "execution_count": null,
      "id": "fresh-crossing",
      "metadata": {
        "colab": {
          "base_uri": "https://localhost:8080/",
          "height": 75
        },
        "execution": {
          "iopub.execute_input": "2021-07-08T19:08:53.822053Z",
          "iopub.status.busy": "2021-07-08T19:08:53.820995Z",
          "iopub.status.idle": "2021-07-08T19:08:53.950735Z",
          "shell.execute_reply": "2021-07-08T19:08:53.949924Z",
          "shell.execute_reply.started": "2021-07-08T19:03:24.401444Z"
        },
        "id": "fresh-crossing",
        "outputId": "0943cecc-38ce-4da3-e855-66ec27f87ad2",
        "papermill": {
          "duration": 0.233588,
          "end_time": "2021-07-08T19:08:53.950889",
          "exception": false,
          "start_time": "2021-07-08T19:08:53.717301",
          "status": "completed"
        },
        "tags": []
      },
      "outputs": [],
      "source": [
        "from sklearn.linear_model import LinearRegression\n",
        "model = LinearRegression(fit_intercept=True)\n",
        "x = final.loc[:,feature_df]\n",
        "y = final.Life_Expectancy\n",
        "model.fit(x, y)"
      ]
    },
    {
      "cell_type": "code",
      "execution_count": null,
      "id": "progressive-conference",
      "metadata": {
        "colab": {
          "base_uri": "https://localhost:8080/"
        },
        "execution": {
          "iopub.execute_input": "2021-07-08T19:08:54.164287Z",
          "iopub.status.busy": "2021-07-08T19:08:54.163266Z",
          "iopub.status.idle": "2021-07-08T19:08:54.167460Z",
          "shell.execute_reply": "2021-07-08T19:08:54.166915Z",
          "shell.execute_reply.started": "2021-07-08T19:03:26.379774Z"
        },
        "id": "progressive-conference",
        "outputId": "61bf9934-32e1-4291-c061-8f82eb923d0d",
        "papermill": {
          "duration": 0.114087,
          "end_time": "2021-07-08T19:08:54.167609",
          "exception": false,
          "start_time": "2021-07-08T19:08:54.053522",
          "status": "completed"
        },
        "tags": []
      },
      "outputs": [],
      "source": [
        "print(\"Model slopes:    \", model.coef_)\n",
        "print(\"Model intercept:\", model.intercept_)"
      ]
    },
    {
      "cell_type": "code",
      "execution_count": null,
      "id": "beginning-drain",
      "metadata": {
        "colab": {
          "base_uri": "https://localhost:8080/",
          "height": 115
        },
        "execution": {
          "iopub.execute_input": "2021-07-08T19:08:54.382913Z",
          "iopub.status.busy": "2021-07-08T19:08:54.375772Z",
          "iopub.status.idle": "2021-07-08T19:08:54.392728Z",
          "shell.execute_reply": "2021-07-08T19:08:54.393670Z",
          "shell.execute_reply.started": "2021-07-08T19:03:47.741348Z"
        },
        "id": "beginning-drain",
        "outputId": "c58ffcf3-1ef8-425a-fb28-7c1107054b15",
        "papermill": {
          "duration": 0.125696,
          "end_time": "2021-07-08T19:08:54.393933",
          "exception": false,
          "start_time": "2021-07-08T19:08:54.268237",
          "status": "completed"
        },
        "tags": []
      },
      "outputs": [],
      "source": [
        "y_predict = model.predict(x.values)\n",
        "RMSE = np.sqrt(((y-y_predict)**2).values.mean())\n",
        "\n",
        "results = pd.DataFrame()\n",
        "results[\"Method\"] = [\"Linear Regression\"]\n",
        "results[\"RMSE\"] = RMSE\n",
        "results"
      ]
    },
    {
      "cell_type": "code",
      "execution_count": null,
      "id": "other-edmonton",
      "metadata": {
        "colab": {
          "base_uri": "https://localhost:8080/"
        },
        "execution": {
          "iopub.execute_input": "2021-07-08T19:08:54.650392Z",
          "iopub.status.busy": "2021-07-08T19:08:54.649519Z",
          "iopub.status.idle": "2021-07-08T19:08:54.654153Z",
          "shell.execute_reply": "2021-07-08T19:08:54.653513Z",
          "shell.execute_reply.started": "2021-07-08T19:03:51.322422Z"
        },
        "id": "other-edmonton",
        "outputId": "1fdd492f-e897-4214-dc6f-6dfd2cc94a81",
        "papermill": {
          "duration": 0.113226,
          "end_time": "2021-07-08T19:08:54.654295",
          "exception": false,
          "start_time": "2021-07-08T19:08:54.541069",
          "status": "completed"
        },
        "tags": []
      },
      "outputs": [],
      "source": [
        "np.min(final['Life_Expectancy']), np.max(final['Life_Expectancy'])"
      ]
    },
    {
      "cell_type": "code",
      "execution_count": null,
      "id": "63938853",
      "metadata": {
        "colab": {
          "base_uri": "https://localhost:8080/"
        },
        "id": "63938853",
        "outputId": "0b453ca5-c4fc-45f9-927b-5f5a4e32210f"
      },
      "outputs": [],
      "source": [
        "!pip install yellowbrick\n"
      ]
    },
    {
      "cell_type": "code",
      "execution_count": null,
      "id": "allied-carroll",
      "metadata": {
        "colab": {
          "base_uri": "https://localhost:8080/",
          "height": 576
        },
        "execution": {
          "iopub.execute_input": "2021-07-08T19:08:54.861360Z",
          "iopub.status.busy": "2021-07-08T19:08:54.860635Z",
          "iopub.status.idle": "2021-07-08T19:08:55.752892Z",
          "shell.execute_reply": "2021-07-08T19:08:55.753405Z",
          "shell.execute_reply.started": "2021-07-08T19:03:53.039922Z"
        },
        "id": "allied-carroll",
        "outputId": "19995219-8650-41d6-814f-340fa58fd93c",
        "papermill": {
          "duration": 0.998501,
          "end_time": "2021-07-08T19:08:55.753582",
          "exception": false,
          "start_time": "2021-07-08T19:08:54.755081",
          "status": "completed"
        },
        "tags": []
      },
      "outputs": [],
      "source": [
        "from yellowbrick.regressor import ResidualsPlot\n",
        "visualizer = ResidualsPlot(estimator = model)\n",
        "visualizer.fit(x, y) \n",
        "visualizer.poof()"
      ]
    },
    {
      "cell_type": "markdown",
      "id": "bronze-armstrong",
      "metadata": {
        "id": "bronze-armstrong",
        "papermill": {
          "duration": 0.104019,
          "end_time": "2021-07-08T19:08:55.961973",
          "exception": false,
          "start_time": "2021-07-08T19:08:55.857954",
          "status": "completed"
        },
        "tags": []
      },
      "source": [
        "**Residuals should be pretty symmetrically distributed, tending to cluster towards the middle of the plot. Clustered around the lower single digits of the y-axis.\n",
        "In general, no clear patterns.**"
      ]
    },
    {
      "cell_type": "markdown",
      "id": "anonymous-retrieval",
      "metadata": {
        "id": "anonymous-retrieval",
        "papermill": {
          "duration": 0.105554,
          "end_time": "2021-07-08T19:08:56.176746",
          "exception": false,
          "start_time": "2021-07-08T19:08:56.071192",
          "status": "completed"
        },
        "tags": []
      },
      "source": [
        "## **MIXED EFFECT MODEL**"
      ]
    },
    {
      "cell_type": "code",
      "execution_count": null,
      "id": "063da0b3",
      "metadata": {
        "colab": {
          "base_uri": "https://localhost:8080/"
        },
        "id": "063da0b3",
        "outputId": "f5f6e9c9-b37c-4a0a-8f13-70542fd8ee3e"
      },
      "outputs": [],
      "source": [
        "!pip install statsmodels"
      ]
    },
    {
      "cell_type": "code",
      "execution_count": null,
      "id": "toxic-demographic",
      "metadata": {
        "execution": {
          "iopub.execute_input": "2021-07-08T19:08:56.389825Z",
          "iopub.status.busy": "2021-07-08T19:08:56.389167Z",
          "iopub.status.idle": "2021-07-08T19:08:57.093415Z",
          "shell.execute_reply": "2021-07-08T19:08:57.092737Z",
          "shell.execute_reply.started": "2021-07-08T19:04:20.532126Z"
        },
        "id": "toxic-demographic",
        "papermill": {
          "duration": 0.813287,
          "end_time": "2021-07-08T19:08:57.093595",
          "exception": false,
          "start_time": "2021-07-08T19:08:56.280308",
          "status": "completed"
        },
        "tags": []
      },
      "outputs": [],
      "source": [
        "#!pip install -q statsmodels\n",
        "import statsmodels.api as sm\n",
        "import statsmodels.formula.api as smf\n",
        "md = smf.mixedlm(\"Life_Expectancy ~ Adult_Mortality_scaled + Alcohol + Polio_scaled + hivaids + BMI + thinness_1to19_years + Developing\", \n",
        "                 final, \n",
        "                 groups=final[\"sum_countries_embedding\"], re_formula=\"~Adult_Mortality_scaled + Alcohol + Polio_scaled + hivaids + BMI + thinness_1to19_years + Developing\") \n",
        "#re_formula To ensure that each country has its own random slope"
      ]
    },
    {
      "cell_type": "code",
      "execution_count": null,
      "id": "curious-uncle",
      "metadata": {
        "colab": {
          "base_uri": "https://localhost:8080/"
        },
        "execution": {
          "iopub.execute_input": "2021-07-08T19:08:57.310191Z",
          "iopub.status.busy": "2021-07-08T19:08:57.309499Z",
          "iopub.status.idle": "2021-07-08T19:09:46.068277Z",
          "shell.execute_reply": "2021-07-08T19:09:46.067662Z",
          "shell.execute_reply.started": "2021-07-08T19:04:22.887958Z"
        },
        "id": "curious-uncle",
        "outputId": "ec41b099-479a-4160-9b89-cfbb811e9e90",
        "papermill": {
          "duration": 48.868533,
          "end_time": "2021-07-08T19:09:46.068435",
          "exception": false,
          "start_time": "2021-07-08T19:08:57.199902",
          "status": "completed"
        },
        "tags": []
      },
      "outputs": [],
      "source": [
        "mdf = md.fit(method=[\"lbfgs\"])\n",
        "print(mdf.summary())"
      ]
    },
    {
      "cell_type": "code",
      "execution_count": null,
      "id": "surprising-feature",
      "metadata": {
        "colab": {
          "base_uri": "https://localhost:8080/",
          "height": 518
        },
        "execution": {
          "iopub.execute_input": "2021-07-08T19:09:46.288254Z",
          "iopub.status.busy": "2021-07-08T19:09:46.287241Z",
          "iopub.status.idle": "2021-07-08T19:09:46.985808Z",
          "shell.execute_reply": "2021-07-08T19:09:46.985276Z",
          "shell.execute_reply.started": "2021-07-08T19:04:56.968544Z"
        },
        "id": "surprising-feature",
        "outputId": "7f99830f-151e-4be2-933e-adf460bdce59",
        "papermill": {
          "duration": 0.810475,
          "end_time": "2021-07-08T19:09:46.985954",
          "exception": false,
          "start_time": "2021-07-08T19:09:46.175479",
          "status": "completed"
        },
        "tags": []
      },
      "outputs": [],
      "source": [
        "performance = pd.DataFrame()\n",
        "performance[\"residuals\"] = mdf.resid.values\n",
        "performance[\"predicted\"] = mdf.fittedvalues\n",
        "\n",
        "sns.lmplot(x = \"predicted\", y = \"residuals\", data = performance)"
      ]
    },
    {
      "cell_type": "code",
      "execution_count": null,
      "id": "early-wheel",
      "metadata": {
        "colab": {
          "base_uri": "https://localhost:8080/",
          "height": 112
        },
        "execution": {
          "iopub.execute_input": "2021-07-08T19:09:47.221346Z",
          "iopub.status.busy": "2021-07-08T19:09:47.220285Z",
          "iopub.status.idle": "2021-07-08T19:09:47.225249Z",
          "shell.execute_reply": "2021-07-08T19:09:47.224607Z",
          "shell.execute_reply.started": "2021-07-08T19:04:59.439373Z"
        },
        "id": "early-wheel",
        "outputId": "93a5a2d6-0a27-427e-e9e3-44f642e98f07",
        "papermill": {
          "duration": 0.128756,
          "end_time": "2021-07-08T19:09:47.225391",
          "exception": false,
          "start_time": "2021-07-08T19:09:47.096635",
          "status": "completed"
        },
        "tags": []
      },
      "outputs": [],
      "source": [
        "y_predict = mdf.fittedvalues\n",
        "RMSE = np.sqrt(((y-y_predict)**2).values.mean())\n",
        "results.loc[3] = [\"Mixed_Random_Slopes\", RMSE]\n",
        "results"
      ]
    },
    {
      "cell_type": "markdown",
      "id": "light-significance",
      "metadata": {
        "id": "light-significance",
        "papermill": {
          "duration": 0.108433,
          "end_time": "2021-07-08T19:09:47.441921",
          "exception": false,
          "start_time": "2021-07-08T19:09:47.333488",
          "status": "completed"
        },
        "tags": []
      },
      "source": [
        "# **USING A NEURAL NETWORK**"
      ]
    },
    {
      "cell_type": "code",
      "execution_count": null,
      "id": "moved-object",
      "metadata": {
        "execution": {
          "iopub.execute_input": "2021-07-08T19:09:47.662605Z",
          "iopub.status.busy": "2021-07-08T19:09:47.661565Z",
          "iopub.status.idle": "2021-07-08T19:09:47.673337Z",
          "shell.execute_reply": "2021-07-08T19:09:47.673822Z",
          "shell.execute_reply.started": "2021-07-08T19:05:03.233915Z"
        },
        "id": "moved-object",
        "papermill": {
          "duration": 0.123987,
          "end_time": "2021-07-08T19:09:47.674021",
          "exception": false,
          "start_time": "2021-07-08T19:09:47.550034",
          "status": "completed"
        },
        "tags": []
      },
      "outputs": [],
      "source": [
        "final = pd.read_csv('./final.csv')"
      ]
    },
    {
      "cell_type": "code",
      "execution_count": null,
      "id": "spanish-protocol",
      "metadata": {
        "colab": {
          "base_uri": "https://localhost:8080/",
          "height": 206
        },
        "execution": {
          "iopub.execute_input": "2021-07-08T19:09:47.897113Z",
          "iopub.status.busy": "2021-07-08T19:09:47.896064Z",
          "iopub.status.idle": "2021-07-08T19:09:47.916255Z",
          "shell.execute_reply": "2021-07-08T19:09:47.915653Z",
          "shell.execute_reply.started": "2021-07-08T19:05:04.807233Z"
        },
        "id": "spanish-protocol",
        "outputId": "a2ff71e6-48ea-449d-adec-24f0a6cfe0f5",
        "papermill": {
          "duration": 0.133845,
          "end_time": "2021-07-08T19:09:47.916403",
          "exception": false,
          "start_time": "2021-07-08T19:09:47.782558",
          "status": "completed"
        },
        "tags": []
      },
      "outputs": [],
      "source": [
        "final.head()"
      ]
    },
    {
      "cell_type": "code",
      "execution_count": null,
      "id": "anonymous-caution",
      "metadata": {
        "execution": {
          "iopub.execute_input": "2021-07-08T19:09:48.166135Z",
          "iopub.status.busy": "2021-07-08T19:09:48.165110Z",
          "iopub.status.idle": "2021-07-08T19:09:48.172262Z",
          "shell.execute_reply": "2021-07-08T19:09:48.172751Z",
          "shell.execute_reply.started": "2021-07-08T19:05:06.702138Z"
        },
        "id": "anonymous-caution",
        "papermill": {
          "duration": 0.147977,
          "end_time": "2021-07-08T19:09:48.172941",
          "exception": false,
          "start_time": "2021-07-08T19:09:48.024964",
          "status": "completed"
        },
        "tags": []
      },
      "outputs": [],
      "source": [
        "final['Status'] = final['Developing'].map(lambda x: 'Developing' if x==1 else 'Developed')"
      ]
    },
    {
      "cell_type": "code",
      "execution_count": null,
      "id": "hawaiian-cooper",
      "metadata": {
        "colab": {
          "base_uri": "https://localhost:8080/"
        },
        "execution": {
          "iopub.execute_input": "2021-07-08T19:09:48.395437Z",
          "iopub.status.busy": "2021-07-08T19:09:48.394459Z",
          "iopub.status.idle": "2021-07-08T19:09:48.406181Z",
          "shell.execute_reply": "2021-07-08T19:09:48.405434Z",
          "shell.execute_reply.started": "2021-07-08T19:05:07.852197Z"
        },
        "id": "hawaiian-cooper",
        "outputId": "4cea11d3-2037-42e7-d5b4-05409f624df3",
        "papermill": {
          "duration": 0.124178,
          "end_time": "2021-07-08T19:09:48.406379",
          "exception": false,
          "start_time": "2021-07-08T19:09:48.282201",
          "status": "completed"
        },
        "tags": []
      },
      "outputs": [],
      "source": [
        "train, test = train_test_split(final, test_size=0.2)\n",
        "train, val = train_test_split(train, test_size=0.2)\n",
        "print(len(train), 'train examples')\n",
        "print(len(val), 'validation examples')\n",
        "print(len(test), 'test examples')"
      ]
    },
    {
      "cell_type": "code",
      "execution_count": null,
      "id": "laden-shoot",
      "metadata": {
        "execution": {
          "iopub.execute_input": "2021-07-08T19:09:48.632262Z",
          "iopub.status.busy": "2021-07-08T19:09:48.631562Z",
          "iopub.status.idle": "2021-07-08T19:09:48.633654Z",
          "shell.execute_reply": "2021-07-08T19:09:48.634130Z",
          "shell.execute_reply.started": "2021-07-08T19:05:09.679380Z"
        },
        "id": "laden-shoot",
        "papermill": {
          "duration": 0.118237,
          "end_time": "2021-07-08T19:09:48.634312",
          "exception": false,
          "start_time": "2021-07-08T19:09:48.516075",
          "status": "completed"
        },
        "tags": []
      },
      "outputs": [],
      "source": [
        "def df_to_dataset(dataframe, shuffle=True, batch_size=32):\n",
        "    dataframe = dataframe.copy()\n",
        "    labels = dataframe.pop('Life_Expectancy')\n",
        "    ds = tf.data.Dataset.from_tensor_slices((dict(dataframe), labels))\n",
        "    if shuffle:\n",
        "        ds = ds.shuffle(buffer_size=len(dataframe))\n",
        "    ds = ds.batch(batch_size)\n",
        "    return ds"
      ]
    },
    {
      "cell_type": "code",
      "execution_count": null,
      "id": "specialized-religious",
      "metadata": {
        "execution": {
          "iopub.execute_input": "2021-07-08T19:09:48.857785Z",
          "iopub.status.busy": "2021-07-08T19:09:48.857055Z",
          "iopub.status.idle": "2021-07-08T19:09:49.137411Z",
          "shell.execute_reply": "2021-07-08T19:09:49.136859Z",
          "shell.execute_reply.started": "2021-07-08T19:05:10.816578Z"
        },
        "id": "specialized-religious",
        "papermill": {
          "duration": 0.39351,
          "end_time": "2021-07-08T19:09:49.137591",
          "exception": false,
          "start_time": "2021-07-08T19:09:48.744081",
          "status": "completed"
        },
        "tags": []
      },
      "outputs": [],
      "source": [
        "train_ds = df_to_dataset(train)\n",
        "val_ds = df_to_dataset(val, shuffle=False, batch_size=16)\n",
        "test_ds = df_to_dataset(test, shuffle=False, batch_size=16)"
      ]
    },
    {
      "cell_type": "code",
      "execution_count": null,
      "id": "arranged-addition",
      "metadata": {
        "execution": {
          "iopub.execute_input": "2021-07-08T19:09:49.363190Z",
          "iopub.status.busy": "2021-07-08T19:09:49.362470Z",
          "iopub.status.idle": "2021-07-08T19:09:49.413513Z",
          "shell.execute_reply": "2021-07-08T19:09:49.412856Z",
          "shell.execute_reply.started": "2021-07-08T19:05:12.685905Z"
        },
        "id": "arranged-addition",
        "papermill": {
          "duration": 0.165996,
          "end_time": "2021-07-08T19:09:49.413667",
          "exception": false,
          "start_time": "2021-07-08T19:09:49.247671",
          "status": "completed"
        },
        "tags": []
      },
      "outputs": [],
      "source": [
        "final_batch = next(iter(train_ds))[0]"
      ]
    },
    {
      "cell_type": "code",
      "execution_count": null,
      "id": "statewide-greek",
      "metadata": {
        "execution": {
          "iopub.execute_input": "2021-07-08T19:09:49.640872Z",
          "iopub.status.busy": "2021-07-08T19:09:49.640151Z",
          "iopub.status.idle": "2021-07-08T19:09:49.643520Z",
          "shell.execute_reply": "2021-07-08T19:09:49.642906Z",
          "shell.execute_reply.started": "2021-07-08T19:05:13.884032Z"
        },
        "id": "statewide-greek",
        "papermill": {
          "duration": 0.119268,
          "end_time": "2021-07-08T19:09:49.643676",
          "exception": false,
          "start_time": "2021-07-08T19:09:49.524408",
          "status": "completed"
        },
        "tags": []
      },
      "outputs": [],
      "source": [
        "def demo(feature_column):\n",
        "    feature_layer = layers.DenseFeatures(feature_column)\n",
        "    return feature_layer(final_batch).numpy()"
      ]
    },
    {
      "cell_type": "code",
      "execution_count": null,
      "id": "conventional-smith",
      "metadata": {
        "colab": {
          "base_uri": "https://localhost:8080/"
        },
        "execution": {
          "iopub.execute_input": "2021-07-08T19:09:49.867975Z",
          "iopub.status.busy": "2021-07-08T19:09:49.867295Z",
          "iopub.status.idle": "2021-07-08T19:09:49.870193Z",
          "shell.execute_reply": "2021-07-08T19:09:49.870662Z",
          "shell.execute_reply.started": "2021-07-08T19:05:15.892374Z"
        },
        "id": "conventional-smith",
        "outputId": "03963834-1712-4db4-ab19-603b5db4cef0",
        "papermill": {
          "duration": 0.118089,
          "end_time": "2021-07-08T19:09:49.870827",
          "exception": false,
          "start_time": "2021-07-08T19:09:49.752738",
          "status": "completed"
        },
        "tags": []
      },
      "outputs": [],
      "source": [
        "feature_columns = []\n",
        "# numeric cols\n",
        "for header in ['Alcohol', 'HIV/AIDS', 'Polio_scaled','BMI','thinness_1to19_years']:\n",
        "    feature_columns.append(feature_column.numeric_column(header))"
      ]
    },
    {
      "cell_type": "code",
      "execution_count": null,
      "id": "brave-workplace",
      "metadata": {
        "colab": {
          "base_uri": "https://localhost:8080/"
        },
        "execution": {
          "iopub.execute_input": "2021-07-08T19:09:50.093978Z",
          "iopub.status.busy": "2021-07-08T19:09:50.093331Z",
          "iopub.status.idle": "2021-07-08T19:09:50.098678Z",
          "shell.execute_reply": "2021-07-08T19:09:50.098172Z",
          "shell.execute_reply.started": "2021-07-08T19:05:18.124609Z"
        },
        "id": "brave-workplace",
        "outputId": "d572a006-1a8a-4932-9f40-a83f71abf6d8",
        "papermill": {
          "duration": 0.118851,
          "end_time": "2021-07-08T19:09:50.098819",
          "exception": false,
          "start_time": "2021-07-08T19:09:49.979968",
          "status": "completed"
        },
        "tags": []
      },
      "outputs": [],
      "source": [
        "#catgorical cols\n",
        "status = feature_column.categorical_column_with_vocabulary_list(\n",
        "      'Status', ['Developing', 'Developed'])\n",
        "\n",
        "status = feature_column.indicator_column(status)\n",
        "feature_columns.append(status)"
      ]
    },
    {
      "cell_type": "code",
      "execution_count": null,
      "id": "above-field",
      "metadata": {
        "execution": {
          "iopub.execute_input": "2021-07-08T19:09:50.325449Z",
          "iopub.status.busy": "2021-07-08T19:09:50.324634Z",
          "iopub.status.idle": "2021-07-08T19:09:50.326765Z",
          "shell.execute_reply": "2021-07-08T19:09:50.327306Z",
          "shell.execute_reply.started": "2021-07-08T19:05:20.009006Z"
        },
        "id": "above-field",
        "papermill": {
          "duration": 0.117498,
          "end_time": "2021-07-08T19:09:50.327487",
          "exception": false,
          "start_time": "2021-07-08T19:09:50.209989",
          "status": "completed"
        },
        "tags": []
      },
      "outputs": [],
      "source": [
        "# embedding columns\n",
        "country = feature_column.categorical_column_with_vocabulary_list(\n",
        "      'Country', final.Country.unique())\n",
        "country_embedding = feature_column.embedding_column(country, dimension=6)\n",
        "feature_columns.append(country_embedding)"
      ]
    },
    {
      "cell_type": "code",
      "execution_count": null,
      "id": "broadband-snapshot",
      "metadata": {
        "execution": {
          "iopub.execute_input": "2021-07-08T19:09:50.551039Z",
          "iopub.status.busy": "2021-07-08T19:09:50.550345Z",
          "iopub.status.idle": "2021-07-08T19:09:50.586663Z",
          "shell.execute_reply": "2021-07-08T19:09:50.587256Z",
          "shell.execute_reply.started": "2021-07-08T19:05:22.996546Z"
        },
        "id": "broadband-snapshot",
        "papermill": {
          "duration": 0.149664,
          "end_time": "2021-07-08T19:09:50.587443",
          "exception": false,
          "start_time": "2021-07-08T19:09:50.437779",
          "status": "completed"
        },
        "tags": []
      },
      "outputs": [],
      "source": [
        "#Input layer\n",
        "feature_layer = tf.keras.layers.DenseFeatures(feature_columns)\n",
        "#Model architecture\n",
        "model = tf.keras.Sequential([\n",
        "  feature_layer,\n",
        "  layers.Dense(128, activation='relu'),\n",
        "  layers.Dense(64, activation='relu'),\n",
        "  layers.Dense(32, activation='relu'), \n",
        "  layers.Dense(16, activation='relu'), \n",
        "  layers.Dense(1)\n",
        "])\n",
        "model.compile(loss='mse', optimizer=tf.keras.optimizers.Adam(0.001), metrics=[tf.keras.metrics.RootMeanSquaredError()])"
      ]
    },
    {
      "cell_type": "code",
      "execution_count": null,
      "id": "packed-language",
      "metadata": {
        "colab": {
          "base_uri": "https://localhost:8080/"
        },
        "execution": {
          "iopub.execute_input": "2021-07-08T19:09:50.810053Z",
          "iopub.status.busy": "2021-07-08T19:09:50.809351Z",
          "iopub.status.idle": "2021-07-08T19:10:01.923712Z",
          "shell.execute_reply": "2021-07-08T19:10:01.924341Z",
          "shell.execute_reply.started": "2021-07-08T19:05:24.377754Z"
        },
        "id": "packed-language",
        "outputId": "d4a4cc32-ba7f-410a-bf14-08d8b85b1a06",
        "papermill": {
          "duration": 11.228156,
          "end_time": "2021-07-08T19:10:01.924612",
          "exception": false,
          "start_time": "2021-07-08T19:09:50.696456",
          "status": "completed"
        },
        "tags": []
      },
      "outputs": [],
      "source": [
        "#Fitting\n",
        "history = model.fit(train_ds, validation_data=val_ds, epochs=40)"
      ]
    },
    {
      "cell_type": "code",
      "execution_count": null,
      "id": "breeding-bubble",
      "metadata": {
        "colab": {
          "base_uri": "https://localhost:8080/",
          "height": 206
        },
        "execution": {
          "iopub.execute_input": "2021-07-08T19:10:02.258332Z",
          "iopub.status.busy": "2021-07-08T19:10:02.257313Z",
          "iopub.status.idle": "2021-07-08T19:10:02.262600Z",
          "shell.execute_reply": "2021-07-08T19:10:02.262030Z",
          "shell.execute_reply.started": "2021-07-08T19:05:36.226514Z"
        },
        "id": "breeding-bubble",
        "outputId": "462477c7-341d-4789-9dbe-cc8c85719b9e",
        "papermill": {
          "duration": 0.178442,
          "end_time": "2021-07-08T19:10:02.262751",
          "exception": false,
          "start_time": "2021-07-08T19:10:02.084309",
          "status": "completed"
        },
        "tags": []
      },
      "outputs": [],
      "source": [
        "hist = pd.DataFrame(history.history)\n",
        "hist['epoch'] = history.epoch\n",
        "hist.tail()"
      ]
    },
    {
      "cell_type": "code",
      "execution_count": null,
      "id": "matched-harassment",
      "metadata": {
        "colab": {
          "base_uri": "https://localhost:8080/"
        },
        "execution": {
          "iopub.execute_input": "2021-07-08T19:10:02.585490Z",
          "iopub.status.busy": "2021-07-08T19:10:02.584137Z",
          "iopub.status.idle": "2021-07-08T19:10:02.879608Z",
          "shell.execute_reply": "2021-07-08T19:10:02.880141Z",
          "shell.execute_reply.started": "2021-07-08T19:05:38.158836Z"
        },
        "id": "matched-harassment",
        "outputId": "d4967711-24d1-4f5e-b1a4-f219fe27ca78",
        "papermill": {
          "duration": 0.45961,
          "end_time": "2021-07-08T19:10:02.880339",
          "exception": false,
          "start_time": "2021-07-08T19:10:02.420729",
          "status": "completed"
        },
        "tags": []
      },
      "outputs": [],
      "source": [
        "predictions = model.predict(test_ds)\n",
        "y = np.concatenate([y for x, y in test_ds], axis=0)"
      ]
    },
    {
      "cell_type": "code",
      "execution_count": null,
      "id": "included-organ",
      "metadata": {
        "colab": {
          "base_uri": "https://localhost:8080/",
          "height": 206
        },
        "execution": {
          "iopub.execute_input": "2021-07-08T19:10:03.201425Z",
          "iopub.status.busy": "2021-07-08T19:10:03.200717Z",
          "iopub.status.idle": "2021-07-08T19:10:03.212699Z",
          "shell.execute_reply": "2021-07-08T19:10:03.212068Z",
          "shell.execute_reply.started": "2021-07-08T19:05:40.761257Z"
        },
        "id": "included-organ",
        "outputId": "dbfeea54-ec2a-4e3f-8d10-b59889f73f1e",
        "papermill": {
          "duration": 0.174397,
          "end_time": "2021-07-08T19:10:03.212847",
          "exception": false,
          "start_time": "2021-07-08T19:10:03.038450",
          "status": "completed"
        },
        "tags": []
      },
      "outputs": [],
      "source": [
        "compare = pd.DataFrame({'predictions':predictions.reshape((-1,)), 'True': y})\n",
        "compare.tail()"
      ]
    },
    {
      "cell_type": "code",
      "execution_count": null,
      "id": "educated-sending",
      "metadata": {
        "colab": {
          "base_uri": "https://localhost:8080/"
        },
        "execution": {
          "iopub.execute_input": "2021-07-08T19:10:03.535690Z",
          "iopub.status.busy": "2021-07-08T19:10:03.534649Z",
          "iopub.status.idle": "2021-07-08T19:10:03.602246Z",
          "shell.execute_reply": "2021-07-08T19:10:03.603000Z",
          "shell.execute_reply.started": "2021-07-08T19:05:45.673173Z"
        },
        "id": "educated-sending",
        "outputId": "755e0406-075c-4e94-cbd7-3562456f414b",
        "papermill": {
          "duration": 0.232252,
          "end_time": "2021-07-08T19:10:03.603258",
          "exception": false,
          "start_time": "2021-07-08T19:10:03.371006",
          "status": "completed"
        },
        "tags": []
      },
      "outputs": [],
      "source": [
        "model_err = model.evaluate(test_ds)"
      ]
    },
    {
      "cell_type": "code",
      "execution_count": null,
      "id": "328df5ba",
      "metadata": {
        "id": "328df5ba"
      },
      "outputs": [],
      "source": []
    }
  ],
  "metadata": {
    "colab": {
      "provenance": []
    },
    "kernelspec": {
      "display_name": "Python 3",
      "language": "python",
      "name": "python3"
    },
    "language_info": {
      "codemirror_mode": {
        "name": "ipython",
        "version": 3
      },
      "file_extension": ".py",
      "mimetype": "text/x-python",
      "name": "python",
      "nbconvert_exporter": "python",
      "pygments_lexer": "ipython3",
      "version": "3.9.13"
    },
    "papermill": {
      "default_parameters": {},
      "duration": 136.294468,
      "end_time": "2021-07-08T19:10:05.396652",
      "environment_variables": {},
      "exception": null,
      "input_path": "__notebook__.ipynb",
      "output_path": "__notebook__.ipynb",
      "parameters": {},
      "start_time": "2021-07-08T19:07:49.102184",
      "version": "2.3.2"
    },
    "vscode": {
      "interpreter": {
        "hash": "3002b4221f314865ee5f4dcec0523790c8c8348c74a0bc9d176ab4663dd44ee4"
      }
    }
  },
  "nbformat": 4,
  "nbformat_minor": 5
}
